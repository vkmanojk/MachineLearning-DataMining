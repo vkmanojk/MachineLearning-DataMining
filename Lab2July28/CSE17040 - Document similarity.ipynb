{
 "cells": [
  {
   "cell_type": "code",
   "execution_count": 1,
   "metadata": {},
   "outputs": [],
   "source": [
    "import math\n",
    "import string\n",
    "import sys"
   ]
  },
  {
   "cell_type": "code",
   "execution_count": 2,
   "metadata": {},
   "outputs": [],
   "source": [
    "def read_file(filename):\n",
    "    try:\n",
    "        with open(filename, 'r') as f:\n",
    "            data = f.read()\n",
    "        return data\n",
    "\n",
    "    except IOError:\n",
    "        print(\"Error opening or reading input file: \", filename)\n",
    "        sys.exit()"
   ]
  },
  {
   "cell_type": "code",
   "execution_count": 3,
   "metadata": {},
   "outputs": [],
   "source": [
    "translation_table = str.maketrans(string.punctuation+string.ascii_uppercase, \" \"*len(string.punctuation)+string.ascii_lowercase)"
   ]
  },
  {
   "cell_type": "code",
   "execution_count": 4,
   "metadata": {},
   "outputs": [],
   "source": [
    "def get_words_from_line_list(text):\n",
    "    text = text.translate(translation_table)\n",
    "    word_list = text.split()\n",
    "    return word_list "
   ]
  },
  {
   "cell_type": "code",
   "execution_count": 5,
   "metadata": {},
   "outputs": [],
   "source": [
    "def count_frequency(word_list):\n",
    "    D = {}\n",
    "    for new_word in word_list:\n",
    "        if new_word in D:\n",
    "            D[new_word] = D[new_word] + 1\n",
    "        else:\n",
    "            D[new_word] = 1\n",
    "    return D"
   ]
  },
  {
   "cell_type": "code",
   "execution_count": 6,
   "metadata": {},
   "outputs": [],
   "source": [
    "def word_frequencies_for_file(filename):\n",
    "    line_list = read_file(filename)\n",
    "    word_list = get_words_from_line_list(line_list)\n",
    "    freq_mapping = count_frequency(word_list)\n",
    "    print(\"File\", filename, \":\", )\n",
    "    print(len(line_list), \"lines, \", )\n",
    "    print(len(word_list), \"words, \", )\n",
    "    print(len(freq_mapping), \"distinct words\")\n",
    "    return freq_mapping "
   ]
  },
  {
   "cell_type": "code",
   "execution_count": 7,
   "metadata": {},
   "outputs": [],
   "source": [
    "def dotProduct(D1, D2):\n",
    "    Sum = 0.0\n",
    "    for key in D1:\n",
    "        if key in D2:\n",
    "            Sum += (D1[key] * D2[key])\n",
    "    return Sum"
   ]
  },
  {
   "cell_type": "code",
   "execution_count": 8,
   "metadata": {},
   "outputs": [],
   "source": [
    "def vector_angle(D1, D2):\n",
    "    numerator = dotProduct(D1, D2)\n",
    "    denominator = math.sqrt(dotProduct(D1, D1)*dotProduct(D2, D2))\n",
    "    return math.acos(numerator / denominator)"
   ]
  },
  {
   "cell_type": "code",
   "execution_count": 9,
   "metadata": {},
   "outputs": [],
   "source": [
    "def documentSimilarity(filename_1, filename_2):\n",
    "\n",
    "    sorted_word_list_1 = word_frequencies_for_file(filename_1)\n",
    "    sorted_word_list_2 = word_frequencies_for_file(filename_2)\n",
    "    distance = vector_angle(sorted_word_list_1, sorted_word_list_2)\n",
    "    print(\"The distance between the documents is: % 0.4f (radians)\"% distance)"
   ]
  },
  {
   "cell_type": "code",
   "execution_count": 10,
   "metadata": {},
   "outputs": [
    {
     "name": "stdout",
     "output_type": "stream",
     "text": [
      "File alice.txt :\n",
      "1326 lines, \n",
      "257 words, \n",
      "138 distinct words\n",
      "File alicemodified.txt :\n",
      "1335 lines, \n",
      "259 words, \n",
      "139 distinct words\n",
      "The distance between the documents is:  0.0429 (radians)\n"
     ]
    }
   ],
   "source": [
    "documentSimilarity('alice.txt', 'alicemodified.txt')"
   ]
  },
  {
   "cell_type": "code",
   "execution_count": null,
   "metadata": {},
   "outputs": [],
   "source": []
  }
 ],
 "metadata": {
  "kernelspec": {
   "display_name": "Python 3",
   "language": "python",
   "name": "python3"
  },
  "language_info": {
   "codemirror_mode": {
    "name": "ipython",
    "version": 3
   },
   "file_extension": ".py",
   "mimetype": "text/x-python",
   "name": "python",
   "nbconvert_exporter": "python",
   "pygments_lexer": "ipython3",
   "version": "3.7.6"
  }
 },
 "nbformat": 4,
 "nbformat_minor": 2
}
