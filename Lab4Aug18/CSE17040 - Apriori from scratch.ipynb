{
 "cells": [
  {
   "cell_type": "markdown",
   "metadata": {},
   "source": [
    "# MLDM Lab 4 - Apriori \n",
    "(Without libraries)\n",
    "\n",
    "Manojkumar V K - CB.EN.U4CSE17040\n"
   ]
  },
  {
   "cell_type": "code",
   "execution_count": 1,
   "metadata": {
    "_cell_guid": "b1076dfc-b9ad-4769-8c92-a6c4dae69d19",
    "_uuid": "8f2839f25d086af736a60e9eeb907d3b93b6e0e5",
    "execution": {
     "iopub.execute_input": "2020-08-17T16:40:58.369955Z",
     "iopub.status.busy": "2020-08-17T16:40:58.369156Z",
     "iopub.status.idle": "2020-08-17T16:40:58.377243Z",
     "shell.execute_reply": "2020-08-17T16:40:58.376539Z"
    },
    "papermill": {
     "duration": 0.024768,
     "end_time": "2020-08-17T16:40:58.377403",
     "exception": false,
     "start_time": "2020-08-17T16:40:58.352635",
     "status": "completed"
    },
    "tags": []
   },
   "outputs": [],
   "source": [
    "import numpy as np\n",
    "import pandas as pd\n",
    "from itertools import combinations"
   ]
  },
  {
   "cell_type": "code",
   "execution_count": 2,
   "metadata": {
    "_cell_guid": "79c7e3d0-c299-4dcb-8224-4455121ee9b0",
    "_uuid": "d629ff2d2480ee46fbb7e2d37f6b5fab8052498a",
    "execution": {
     "iopub.execute_input": "2020-08-17T16:40:58.408553Z",
     "iopub.status.busy": "2020-08-17T16:40:58.407682Z",
     "iopub.status.idle": "2020-08-17T16:40:58.465544Z",
     "shell.execute_reply": "2020-08-17T16:40:58.466192Z"
    },
    "papermill": {
     "duration": 0.079765,
     "end_time": "2020-08-17T16:40:58.466378",
     "exception": false,
     "start_time": "2020-08-17T16:40:58.386613",
     "status": "completed"
    },
    "tags": []
   },
   "outputs": [
    {
     "data": {
      "text/html": [
       "<div>\n",
       "<style scoped>\n",
       "    .dataframe tbody tr th:only-of-type {\n",
       "        vertical-align: middle;\n",
       "    }\n",
       "\n",
       "    .dataframe tbody tr th {\n",
       "        vertical-align: top;\n",
       "    }\n",
       "\n",
       "    .dataframe thead th {\n",
       "        text-align: right;\n",
       "    }\n",
       "</style>\n",
       "<table border=\"1\" class=\"dataframe\">\n",
       "  <thead>\n",
       "    <tr style=\"text-align: right;\">\n",
       "      <th></th>\n",
       "      <th>0</th>\n",
       "      <th>I1</th>\n",
       "      <th>I2</th>\n",
       "      <th>I3</th>\n",
       "      <th>I4</th>\n",
       "    </tr>\n",
       "  </thead>\n",
       "  <tbody>\n",
       "    <tr>\n",
       "      <th>0</th>\n",
       "      <td>MILK,BREAD,BISCUIT</td>\n",
       "      <td>MILK</td>\n",
       "      <td>BREAD</td>\n",
       "      <td>BISCUIT</td>\n",
       "      <td>NaN</td>\n",
       "    </tr>\n",
       "    <tr>\n",
       "      <th>1</th>\n",
       "      <td>BREAD,MILK,BISCUIT,CORNFLAKES</td>\n",
       "      <td>BREAD</td>\n",
       "      <td>MILK</td>\n",
       "      <td>BISCUIT</td>\n",
       "      <td>CORNFLAKES</td>\n",
       "    </tr>\n",
       "    <tr>\n",
       "      <th>2</th>\n",
       "      <td>BREAD,TEA,BOURNVITA</td>\n",
       "      <td>BREAD</td>\n",
       "      <td>TEA</td>\n",
       "      <td>BOURNVITA</td>\n",
       "      <td>NaN</td>\n",
       "    </tr>\n",
       "    <tr>\n",
       "      <th>3</th>\n",
       "      <td>JAM,MAGGI,BREAD,MILK</td>\n",
       "      <td>JAM</td>\n",
       "      <td>MAGGI</td>\n",
       "      <td>BREAD</td>\n",
       "      <td>MILK</td>\n",
       "    </tr>\n",
       "    <tr>\n",
       "      <th>4</th>\n",
       "      <td>MAGGI,TEA,BISCUIT</td>\n",
       "      <td>MAGGI</td>\n",
       "      <td>TEA</td>\n",
       "      <td>BISCUIT</td>\n",
       "      <td>NaN</td>\n",
       "    </tr>\n",
       "  </tbody>\n",
       "</table>\n",
       "</div>"
      ],
      "text/plain": [
       "                               0     I1     I2         I3          I4\n",
       "0             MILK,BREAD,BISCUIT   MILK  BREAD    BISCUIT         NaN\n",
       "1  BREAD,MILK,BISCUIT,CORNFLAKES  BREAD   MILK    BISCUIT  CORNFLAKES\n",
       "2            BREAD,TEA,BOURNVITA  BREAD    TEA  BOURNVITA         NaN\n",
       "3           JAM,MAGGI,BREAD,MILK    JAM  MAGGI      BREAD        MILK\n",
       "4              MAGGI,TEA,BISCUIT  MAGGI    TEA    BISCUIT         NaN"
      ]
     },
     "execution_count": 2,
     "metadata": {},
     "output_type": "execute_result"
    }
   ],
   "source": [
    "df = pd.read_csv('GroceryStoreDataSet.csv', sep=',',header=None,index_col=False)\n",
    "df['I1'],df['I2'],df['I3'],df['I4'] = np.nan,np.nan,np.nan,np.nan\n",
    "for r in range(df.shape[0]):\n",
    "    l = df.iloc[r,0].split(',')\n",
    "    n = len(l)\n",
    "    for i in range(1,n+1):\n",
    "        df.iloc[r,i] = l[i-1]\n",
    "df.head()"
   ]
  },
  {
   "cell_type": "markdown",
   "metadata": {},
   "source": [
    "Assumed Minimum support = 2, Minimum confidence = 75%"
   ]
  },
  {
   "cell_type": "code",
   "execution_count": 3,
   "metadata": {
    "execution": {
     "iopub.execute_input": "2020-08-17T16:40:58.518144Z",
     "iopub.status.busy": "2020-08-17T16:40:58.517293Z",
     "iopub.status.idle": "2020-08-17T16:40:58.522770Z",
     "shell.execute_reply": "2020-08-17T16:40:58.521957Z"
    },
    "papermill": {
     "duration": 0.028487,
     "end_time": "2020-08-17T16:40:58.522906",
     "exception": false,
     "start_time": "2020-08-17T16:40:58.494419",
     "status": "completed"
    },
    "tags": []
   },
   "outputs": [
    {
     "data": {
      "text/plain": [
       "[['MILK', 'BREAD', 'BISCUIT'],\n",
       " ['BREAD', 'MILK', 'BISCUIT', 'CORNFLAKES'],\n",
       " ['BREAD', 'TEA', 'BOURNVITA'],\n",
       " ['JAM', 'MAGGI', 'BREAD', 'MILK'],\n",
       " ['MAGGI', 'TEA', 'BISCUIT']]"
      ]
     },
     "execution_count": 3,
     "metadata": {},
     "output_type": "execute_result"
    }
   ],
   "source": [
    "min_sup, min_conf, records = 2, 75, []\n",
    "for i in range(0,df.shape[0]):\n",
    "    records.append([str(df.values[i,j]) for j in range(1,len(df.columns)) if str(df.values[i,j]) != 'nan'])\n",
    "itemlist = sorted([item for sublist in records for item in sublist if item != np.nan])\n",
    "records[:5]"
   ]
  },
  {
   "cell_type": "markdown",
   "metadata": {},
   "source": [
    "## 1 - Item list"
   ]
  },
  {
   "cell_type": "code",
   "execution_count": 4,
   "metadata": {
    "execution": {
     "iopub.execute_input": "2020-08-17T16:40:58.577729Z",
     "iopub.status.busy": "2020-08-17T16:40:58.576800Z",
     "iopub.status.idle": "2020-08-17T16:40:58.582139Z",
     "shell.execute_reply": "2020-08-17T16:40:58.582735Z"
    },
    "papermill": {
     "duration": 0.032858,
     "end_time": "2020-08-17T16:40:58.582899",
     "exception": false,
     "start_time": "2020-08-17T16:40:58.550041",
     "status": "completed"
    },
    "tags": []
   },
   "outputs": [],
   "source": [
    "def stage_1(itemlist,min_sup):\n",
    "    c1 = {i: itemlist.count(i) for i in itemlist}\n",
    "    l1 = {}\n",
    "    for key,val in c1.items():\n",
    "        if val >= min_sup:\n",
    "            l1[key] = val\n",
    "    return c1,l1"
   ]
  },
  {
   "cell_type": "code",
   "execution_count": 5,
   "metadata": {},
   "outputs": [
    {
     "name": "stdout",
     "output_type": "stream",
     "text": [
      "{'BISCUIT': 7, 'BOURNVITA': 4, 'BREAD': 13, 'COCK': 3, 'COFFEE': 8, 'CORNFLAKES': 6, 'JAM': 2, 'MAGGI': 5, 'MILK': 5, 'SUGER': 6, 'TEA': 7}\n",
      "{'BISCUIT': 7, 'BOURNVITA': 4, 'BREAD': 13, 'COCK': 3, 'COFFEE': 8, 'CORNFLAKES': 6, 'JAM': 2, 'MAGGI': 5, 'MILK': 5, 'SUGER': 6, 'TEA': 7}\n"
     ]
    }
   ],
   "source": [
    "c1,l1 = stage_1(itemlist,min_sup)\n",
    "print(c1)\n",
    "print(l1)"
   ]
  },
  {
   "cell_type": "code",
   "execution_count": 6,
   "metadata": {},
   "outputs": [
    {
     "data": {
      "text/html": [
       "<div>\n",
       "<style scoped>\n",
       "    .dataframe tbody tr th:only-of-type {\n",
       "        vertical-align: middle;\n",
       "    }\n",
       "\n",
       "    .dataframe tbody tr th {\n",
       "        vertical-align: top;\n",
       "    }\n",
       "\n",
       "    .dataframe thead th {\n",
       "        text-align: right;\n",
       "    }\n",
       "</style>\n",
       "<table border=\"1\" class=\"dataframe\">\n",
       "  <thead>\n",
       "    <tr style=\"text-align: right;\">\n",
       "      <th></th>\n",
       "      <th>sup_count</th>\n",
       "    </tr>\n",
       "  </thead>\n",
       "  <tbody>\n",
       "    <tr>\n",
       "      <th>BISCUIT</th>\n",
       "      <td>7</td>\n",
       "    </tr>\n",
       "    <tr>\n",
       "      <th>BOURNVITA</th>\n",
       "      <td>4</td>\n",
       "    </tr>\n",
       "    <tr>\n",
       "      <th>BREAD</th>\n",
       "      <td>13</td>\n",
       "    </tr>\n",
       "    <tr>\n",
       "      <th>COCK</th>\n",
       "      <td>3</td>\n",
       "    </tr>\n",
       "    <tr>\n",
       "      <th>COFFEE</th>\n",
       "      <td>8</td>\n",
       "    </tr>\n",
       "  </tbody>\n",
       "</table>\n",
       "</div>"
      ],
      "text/plain": [
       "           sup_count\n",
       "BISCUIT            7\n",
       "BOURNVITA          4\n",
       "BREAD             13\n",
       "COCK               3\n",
       "COFFEE             8"
      ]
     },
     "execution_count": 6,
     "metadata": {},
     "output_type": "execute_result"
    }
   ],
   "source": [
    "df_stage1 = pd.DataFrame(l1,index=['sup_count']).T\n",
    "df_stage1.head()"
   ]
  },
  {
   "cell_type": "markdown",
   "metadata": {},
   "source": [
    "## 2 - Item list"
   ]
  },
  {
   "cell_type": "code",
   "execution_count": 7,
   "metadata": {},
   "outputs": [],
   "source": [
    "def check_freq(curr,prev,n):\n",
    "    if n > 1:\n",
    "        subsets = list(combinations(curr,n))\n",
    "    else:\n",
    "        subsets = curr\n",
    "    for item in subsets:\n",
    "        if not item in prev:\n",
    "            return False\n",
    "        else:\n",
    "            return True"
   ]
  },
  {
   "cell_type": "code",
   "execution_count": 8,
   "metadata": {},
   "outputs": [],
   "source": [
    "def sublist(i1,i2):\n",
    "    return set(i1) <= set(i2)"
   ]
  },
  {
   "cell_type": "code",
   "execution_count": 9,
   "metadata": {},
   "outputs": [],
   "source": [
    "def stage_2(l1,records,min_sup):\n",
    "    l1 = sorted(list(l1.keys()))\n",
    "    L1 = list(combinations(l1,2))\n",
    "    c2,l2 = {},{}\n",
    "    for it1 in L1:\n",
    "        count = 0\n",
    "        for it2 in records:\n",
    "            if sublist(it1,it2):\n",
    "                count += 1\n",
    "        c2[it1] = count\n",
    "    for key,val in c2.items():\n",
    "        if val >= min_sup:\n",
    "            if check_freq(key,l1,1):\n",
    "                l2[key] = val\n",
    "    return c2,l2"
   ]
  },
  {
   "cell_type": "code",
   "execution_count": 10,
   "metadata": {
    "execution": {
     "iopub.execute_input": "2020-08-17T16:40:58.641781Z",
     "iopub.status.busy": "2020-08-17T16:40:58.636499Z",
     "iopub.status.idle": "2020-08-17T16:40:58.672988Z",
     "shell.execute_reply": "2020-08-17T16:40:58.672032Z"
    },
    "papermill": {
     "duration": 0.060636,
     "end_time": "2020-08-17T16:40:58.673171",
     "exception": false,
     "start_time": "2020-08-17T16:40:58.612535",
     "status": "completed"
    },
    "tags": []
   },
   "outputs": [
    {
     "name": "stdout",
     "output_type": "stream",
     "text": [
      "No. of itemsets = 55, No. of frequent itemsets = 24\n"
     ]
    }
   ],
   "source": [
    "c2,l2 = stage_2(l1,records,min_sup)\n",
    "l2 = {key: value for key,value in l2.items() if value != 0}\n",
    "print(\"No. of itemsets = {}, No. of frequent itemsets = {}\".format(len(list(c2)),len(list(l2))))"
   ]
  },
  {
   "cell_type": "code",
   "execution_count": 11,
   "metadata": {},
   "outputs": [
    {
     "data": {
      "text/html": [
       "<div>\n",
       "<style scoped>\n",
       "    .dataframe tbody tr th:only-of-type {\n",
       "        vertical-align: middle;\n",
       "    }\n",
       "\n",
       "    .dataframe tbody tr th {\n",
       "        vertical-align: top;\n",
       "    }\n",
       "\n",
       "    .dataframe thead th {\n",
       "        text-align: right;\n",
       "    }\n",
       "</style>\n",
       "<table border=\"1\" class=\"dataframe\">\n",
       "  <thead>\n",
       "    <tr style=\"text-align: right;\">\n",
       "      <th></th>\n",
       "      <th></th>\n",
       "      <th>sup_count</th>\n",
       "    </tr>\n",
       "  </thead>\n",
       "  <tbody>\n",
       "    <tr>\n",
       "      <th rowspan=\"5\" valign=\"top\">BISCUIT</th>\n",
       "      <th>BREAD</th>\n",
       "      <td>4</td>\n",
       "    </tr>\n",
       "    <tr>\n",
       "      <th>COCK</th>\n",
       "      <td>2</td>\n",
       "    </tr>\n",
       "    <tr>\n",
       "      <th>COFFEE</th>\n",
       "      <td>2</td>\n",
       "    </tr>\n",
       "    <tr>\n",
       "      <th>CORNFLAKES</th>\n",
       "      <td>3</td>\n",
       "    </tr>\n",
       "    <tr>\n",
       "      <th>MAGGI</th>\n",
       "      <td>2</td>\n",
       "    </tr>\n",
       "  </tbody>\n",
       "</table>\n",
       "</div>"
      ],
      "text/plain": [
       "                    sup_count\n",
       "BISCUIT BREAD               4\n",
       "        COCK                2\n",
       "        COFFEE              2\n",
       "        CORNFLAKES          3\n",
       "        MAGGI               2"
      ]
     },
     "execution_count": 11,
     "metadata": {},
     "output_type": "execute_result"
    }
   ],
   "source": [
    "df_stage2 = pd.DataFrame(l2,index=['sup_count']).T\n",
    "df_stage2.head()"
   ]
  },
  {
   "cell_type": "markdown",
   "metadata": {},
   "source": [
    "## 3 - Item list"
   ]
  },
  {
   "cell_type": "code",
   "execution_count": 12,
   "metadata": {
    "execution": {
     "iopub.execute_input": "2020-08-17T16:40:58.727592Z",
     "iopub.status.busy": "2020-08-17T16:40:58.722381Z",
     "iopub.status.idle": "2020-08-17T16:40:58.751469Z",
     "shell.execute_reply": "2020-08-17T16:40:58.752119Z"
    },
    "papermill": {
     "duration": 0.049017,
     "end_time": "2020-08-17T16:40:58.752297",
     "exception": false,
     "start_time": "2020-08-17T16:40:58.703280",
     "status": "completed"
    },
    "tags": []
   },
   "outputs": [],
   "source": [
    "def stage_3(l2,records,min_sup):\n",
    "    l2 = list(l2.keys())\n",
    "    L2 = sorted(list(set([item for temp in l2 for item in temp])))\n",
    "    L2 = list(combinations(L2,3))\n",
    "    c3,l3 = {},{}\n",
    "    for it1 in L2:\n",
    "        count = 0\n",
    "        for it2 in records:\n",
    "            if sublist(it1,it2):\n",
    "                count += 1\n",
    "        c3[it1] = count\n",
    "    for key,val in c3.items():\n",
    "        if val >= min_sup:\n",
    "            if check_freq(key,l2,2):\n",
    "                l3[key] = val\n",
    "    return c3,l3"
   ]
  },
  {
   "cell_type": "code",
   "execution_count": 13,
   "metadata": {},
   "outputs": [
    {
     "name": "stdout",
     "output_type": "stream",
     "text": [
      "No. of itemsets = 165, No. of frequent itemsets = 10\n"
     ]
    }
   ],
   "source": [
    "c3,l3 = stage_3(l2,records,min_sup)\n",
    "l3 = {key: value for key,value in l3.items() if value != 0}\n",
    "print(\"No. of itemsets = {}, No. of frequent itemsets = {}\".format(len(list(c3)),len(list(l3))))"
   ]
  },
  {
   "cell_type": "code",
   "execution_count": 14,
   "metadata": {},
   "outputs": [
    {
     "data": {
      "text/html": [
       "<div>\n",
       "<style scoped>\n",
       "    .dataframe tbody tr th:only-of-type {\n",
       "        vertical-align: middle;\n",
       "    }\n",
       "\n",
       "    .dataframe tbody tr th {\n",
       "        vertical-align: top;\n",
       "    }\n",
       "\n",
       "    .dataframe thead th {\n",
       "        text-align: right;\n",
       "    }\n",
       "</style>\n",
       "<table border=\"1\" class=\"dataframe\">\n",
       "  <thead>\n",
       "    <tr style=\"text-align: right;\">\n",
       "      <th></th>\n",
       "      <th></th>\n",
       "      <th></th>\n",
       "      <th>sup_count</th>\n",
       "    </tr>\n",
       "  </thead>\n",
       "  <tbody>\n",
       "    <tr>\n",
       "      <th rowspan=\"5\" valign=\"top\">BISCUIT</th>\n",
       "      <th>BREAD</th>\n",
       "      <th>MILK</th>\n",
       "      <td>2</td>\n",
       "    </tr>\n",
       "    <tr>\n",
       "      <th rowspan=\"2\" valign=\"top\">COCK</th>\n",
       "      <th>COFFEE</th>\n",
       "      <td>2</td>\n",
       "    </tr>\n",
       "    <tr>\n",
       "      <th>CORNFLAKES</th>\n",
       "      <td>2</td>\n",
       "    </tr>\n",
       "    <tr>\n",
       "      <th>COFFEE</th>\n",
       "      <th>CORNFLAKES</th>\n",
       "      <td>2</td>\n",
       "    </tr>\n",
       "    <tr>\n",
       "      <th>MAGGI</th>\n",
       "      <th>TEA</th>\n",
       "      <td>2</td>\n",
       "    </tr>\n",
       "    <tr>\n",
       "      <th>BOURNVITA</th>\n",
       "      <th>BREAD</th>\n",
       "      <th>TEA</th>\n",
       "      <td>2</td>\n",
       "    </tr>\n",
       "    <tr>\n",
       "      <th rowspan=\"3\" valign=\"top\">BREAD</th>\n",
       "      <th>COFFEE</th>\n",
       "      <th>SUGER</th>\n",
       "      <td>2</td>\n",
       "    </tr>\n",
       "    <tr>\n",
       "      <th>JAM</th>\n",
       "      <th>MAGGI</th>\n",
       "      <td>2</td>\n",
       "    </tr>\n",
       "    <tr>\n",
       "      <th>MAGGI</th>\n",
       "      <th>TEA</th>\n",
       "      <td>2</td>\n",
       "    </tr>\n",
       "    <tr>\n",
       "      <th>COCK</th>\n",
       "      <th>COFFEE</th>\n",
       "      <th>CORNFLAKES</th>\n",
       "      <td>2</td>\n",
       "    </tr>\n",
       "  </tbody>\n",
       "</table>\n",
       "</div>"
      ],
      "text/plain": [
       "                             sup_count\n",
       "BISCUIT   BREAD  MILK                2\n",
       "          COCK   COFFEE              2\n",
       "                 CORNFLAKES          2\n",
       "          COFFEE CORNFLAKES          2\n",
       "          MAGGI  TEA                 2\n",
       "BOURNVITA BREAD  TEA                 2\n",
       "BREAD     COFFEE SUGER               2\n",
       "          JAM    MAGGI               2\n",
       "          MAGGI  TEA                 2\n",
       "COCK      COFFEE CORNFLAKES          2"
      ]
     },
     "execution_count": 14,
     "metadata": {},
     "output_type": "execute_result"
    }
   ],
   "source": [
    "df_stage3 = pd.DataFrame(l3,index=['sup_count']).T\n",
    "df_stage3"
   ]
  },
  {
   "cell_type": "markdown",
   "metadata": {},
   "source": [
    "## 4 - Item list"
   ]
  },
  {
   "cell_type": "code",
   "execution_count": 15,
   "metadata": {
    "execution": {
     "iopub.execute_input": "2020-08-17T16:40:58.807193Z",
     "iopub.status.busy": "2020-08-17T16:40:58.801761Z",
     "iopub.status.idle": "2020-08-17T16:40:58.840015Z",
     "shell.execute_reply": "2020-08-17T16:40:58.839359Z"
    },
    "papermill": {
     "duration": 0.057448,
     "end_time": "2020-08-17T16:40:58.840174",
     "exception": false,
     "start_time": "2020-08-17T16:40:58.782726",
     "status": "completed"
    },
    "tags": []
   },
   "outputs": [],
   "source": [
    "def stage_4(l3,records,min_sup):\n",
    "    l3 = list(l3.keys())\n",
    "    L3 = sorted(list(set([item for temp in l3 for item in temp])))\n",
    "    L3 = list(combinations(L3,4))\n",
    "    c4,l4 = {},{}\n",
    "    for it1 in L3:\n",
    "        count = 0\n",
    "        for it2 in records:\n",
    "            if sublist(it1,it2):\n",
    "                count += 1\n",
    "        c4[it1] = count\n",
    "        for key,val in c4.items():\n",
    "            if val >= min_sup:\n",
    "                if check_freq(key,l3,3):\n",
    "                    l4[key] = val\n",
    "    return c4,l4"
   ]
  },
  {
   "cell_type": "code",
   "execution_count": 16,
   "metadata": {},
   "outputs": [
    {
     "name": "stdout",
     "output_type": "stream",
     "text": [
      "No. of itemsets = 330, No. of frequent itemsets = 1\n"
     ]
    }
   ],
   "source": [
    "c4,l4 = stage_4(l3,records,min_sup)\n",
    "l4 = {key: value for key,value in l4.items() if value != 0}\n",
    "print(\"No. of itemsets = {}, No. of frequent itemsets = {}\".format(len(list(c4)),len(list(l4))))"
   ]
  },
  {
   "cell_type": "code",
   "execution_count": 17,
   "metadata": {},
   "outputs": [
    {
     "data": {
      "text/html": [
       "<div>\n",
       "<style scoped>\n",
       "    .dataframe tbody tr th:only-of-type {\n",
       "        vertical-align: middle;\n",
       "    }\n",
       "\n",
       "    .dataframe tbody tr th {\n",
       "        vertical-align: top;\n",
       "    }\n",
       "\n",
       "    .dataframe thead th {\n",
       "        text-align: right;\n",
       "    }\n",
       "</style>\n",
       "<table border=\"1\" class=\"dataframe\">\n",
       "  <thead>\n",
       "    <tr style=\"text-align: right;\">\n",
       "      <th></th>\n",
       "      <th></th>\n",
       "      <th></th>\n",
       "      <th></th>\n",
       "      <th>sup_count</th>\n",
       "    </tr>\n",
       "  </thead>\n",
       "  <tbody>\n",
       "    <tr>\n",
       "      <th>BISCUIT</th>\n",
       "      <th>COCK</th>\n",
       "      <th>COFFEE</th>\n",
       "      <th>CORNFLAKES</th>\n",
       "      <td>2</td>\n",
       "    </tr>\n",
       "  </tbody>\n",
       "</table>\n",
       "</div>"
      ],
      "text/plain": [
       "                                sup_count\n",
       "BISCUIT COCK COFFEE CORNFLAKES          2"
      ]
     },
     "execution_count": 17,
     "metadata": {},
     "output_type": "execute_result"
    }
   ],
   "source": [
    "df_stage4 = pd.DataFrame(l4,index=['sup_count']).T\n",
    "df_stage4"
   ]
  },
  {
   "cell_type": "markdown",
   "metadata": {},
   "source": [
    "## Building Association Rules"
   ]
  },
  {
   "cell_type": "code",
   "execution_count": 18,
   "metadata": {
    "execution": {
     "iopub.execute_input": "2020-08-17T16:40:58.893443Z",
     "iopub.status.busy": "2020-08-17T16:40:58.892262Z",
     "iopub.status.idle": "2020-08-17T16:40:58.898966Z",
     "shell.execute_reply": "2020-08-17T16:40:58.898194Z"
    },
    "papermill": {
     "duration": 0.026753,
     "end_time": "2020-08-17T16:40:58.899124",
     "exception": false,
     "start_time": "2020-08-17T16:40:58.872371",
     "status": "completed"
    },
    "tags": []
   },
   "outputs": [
    {
     "data": {
      "text/plain": [
       "{'BISCUIT': 7,\n",
       " 'BOURNVITA': 4,\n",
       " 'BREAD': 13,\n",
       " 'COCK': 3,\n",
       " 'COFFEE': 8,\n",
       " 'CORNFLAKES': 6,\n",
       " 'JAM': 2,\n",
       " 'MAGGI': 5,\n",
       " 'MILK': 5,\n",
       " 'SUGER': 6,\n",
       " 'TEA': 7,\n",
       " ('BISCUIT', 'BREAD'): 4,\n",
       " ('BISCUIT', 'COCK'): 2,\n",
       " ('BISCUIT', 'COFFEE'): 2,\n",
       " ('BISCUIT', 'CORNFLAKES'): 3,\n",
       " ('BISCUIT', 'MAGGI'): 2,\n",
       " ('BISCUIT', 'MILK'): 2,\n",
       " ('BISCUIT', 'TEA'): 2,\n",
       " ('BOURNVITA', 'BREAD'): 3,\n",
       " ('BOURNVITA', 'SUGER'): 2,\n",
       " ('BOURNVITA', 'TEA'): 2,\n",
       " ('BREAD', 'COFFEE'): 3,\n",
       " ('BREAD', 'JAM'): 2,\n",
       " ('BREAD', 'MAGGI'): 3,\n",
       " ('BREAD', 'MILK'): 4,\n",
       " ('BREAD', 'SUGER'): 4,\n",
       " ('BREAD', 'TEA'): 4,\n",
       " ('COCK', 'COFFEE'): 3,\n",
       " ('COCK', 'CORNFLAKES'): 2,\n",
       " ('COFFEE', 'CORNFLAKES'): 4,\n",
       " ('COFFEE', 'SUGER'): 4,\n",
       " ('CORNFLAKES', 'MILK'): 2,\n",
       " ('CORNFLAKES', 'TEA'): 2,\n",
       " ('JAM', 'MAGGI'): 2,\n",
       " ('MAGGI', 'TEA'): 4,\n",
       " ('BISCUIT', 'BREAD', 'MILK'): 2,\n",
       " ('BISCUIT', 'COCK', 'COFFEE'): 2,\n",
       " ('BISCUIT', 'COCK', 'CORNFLAKES'): 2,\n",
       " ('BISCUIT', 'COFFEE', 'CORNFLAKES'): 2,\n",
       " ('BISCUIT', 'MAGGI', 'TEA'): 2,\n",
       " ('BOURNVITA', 'BREAD', 'TEA'): 2,\n",
       " ('BREAD', 'COFFEE', 'SUGER'): 2,\n",
       " ('BREAD', 'JAM', 'MAGGI'): 2,\n",
       " ('BREAD', 'MAGGI', 'TEA'): 2,\n",
       " ('COCK', 'COFFEE', 'CORNFLAKES'): 2,\n",
       " ('BISCUIT', 'COCK', 'COFFEE', 'CORNFLAKES'): 2}"
      ]
     },
     "execution_count": 18,
     "metadata": {},
     "output_type": "execute_result"
    }
   ],
   "source": [
    "items = {**l1,**l2,**l3,**l4}\n",
    "items"
   ]
  },
  {
   "cell_type": "code",
   "execution_count": 19,
   "metadata": {
    "execution": {
     "iopub.execute_input": "2020-08-17T16:40:58.937136Z",
     "iopub.status.busy": "2020-08-17T16:40:58.936188Z",
     "iopub.status.idle": "2020-08-17T16:40:58.941467Z",
     "shell.execute_reply": "2020-08-17T16:40:58.942441Z"
    },
    "papermill": {
     "duration": 0.032448,
     "end_time": "2020-08-17T16:40:58.942653",
     "exception": false,
     "start_time": "2020-08-17T16:40:58.910205",
     "status": "completed"
    },
    "tags": []
   },
   "outputs": [],
   "source": [
    "assc_sets = []\n",
    "for it1 in list(l3.keys()):\n",
    "    assc_subset = list(combinations(it1,2))\n",
    "    assc_sets.append(assc_subset)"
   ]
  },
  {
   "cell_type": "code",
   "execution_count": 20,
   "metadata": {},
   "outputs": [],
   "source": [
    "def sup_calc(it,items):\n",
    "    return items[it]"
   ]
  },
  {
   "cell_type": "code",
   "execution_count": 21,
   "metadata": {
    "scrolled": false
   },
   "outputs": [
    {
     "name": "stdout",
     "output_type": "stream",
     "text": [
      "Confidence of the association rule ('BISCUIT', 'BREAD') --> {'MILK'} = 50.00%\n",
      "STATUS : REJECTED RULE\n",
      "\n",
      "Confidence of the association rule ('BISCUIT', 'MILK') --> {'BREAD'} = 100.00%\n",
      "STATUS : SELECTED RULE\n",
      "\n",
      "Confidence of the association rule ('BREAD', 'MILK') --> {'BISCUIT'} = 50.00%\n",
      "STATUS : REJECTED RULE\n",
      "\n",
      "Confidence of the association rule ('BISCUIT', 'COCK') --> {'COFFEE'} = 100.00%\n",
      "STATUS : SELECTED RULE\n",
      "\n",
      "Confidence of the association rule ('BISCUIT', 'COFFEE') --> {'COCK'} = 100.00%\n",
      "STATUS : SELECTED RULE\n",
      "\n",
      "Confidence of the association rule ('COCK', 'COFFEE') --> {'BISCUIT'} = 66.67%\n",
      "STATUS : REJECTED RULE\n",
      "\n",
      "Confidence of the association rule ('BISCUIT', 'COCK') --> {'CORNFLAKES'} = 100.00%\n",
      "STATUS : SELECTED RULE\n",
      "\n",
      "Confidence of the association rule ('BISCUIT', 'CORNFLAKES') --> {'COCK'} = 66.67%\n",
      "STATUS : REJECTED RULE\n",
      "\n",
      "Confidence of the association rule ('COCK', 'CORNFLAKES') --> {'BISCUIT'} = 100.00%\n",
      "STATUS : SELECTED RULE\n",
      "\n",
      "Confidence of the association rule ('BISCUIT', 'COFFEE') --> {'CORNFLAKES'} = 100.00%\n",
      "STATUS : SELECTED RULE\n",
      "\n",
      "Confidence of the association rule ('BISCUIT', 'CORNFLAKES') --> {'COFFEE'} = 66.67%\n",
      "STATUS : REJECTED RULE\n",
      "\n",
      "Confidence of the association rule ('COFFEE', 'CORNFLAKES') --> {'BISCUIT'} = 50.00%\n",
      "STATUS : REJECTED RULE\n",
      "\n",
      "Confidence of the association rule ('BISCUIT', 'MAGGI') --> {'TEA'} = 100.00%\n",
      "STATUS : SELECTED RULE\n",
      "\n",
      "Confidence of the association rule ('BISCUIT', 'TEA') --> {'MAGGI'} = 100.00%\n",
      "STATUS : SELECTED RULE\n",
      "\n",
      "Confidence of the association rule ('MAGGI', 'TEA') --> {'BISCUIT'} = 50.00%\n",
      "STATUS : REJECTED RULE\n",
      "\n",
      "Confidence of the association rule ('BOURNVITA', 'BREAD') --> {'TEA'} = 66.67%\n",
      "STATUS : REJECTED RULE\n",
      "\n",
      "Confidence of the association rule ('BOURNVITA', 'TEA') --> {'BREAD'} = 100.00%\n",
      "STATUS : SELECTED RULE\n",
      "\n",
      "Confidence of the association rule ('BREAD', 'TEA') --> {'BOURNVITA'} = 50.00%\n",
      "STATUS : REJECTED RULE\n",
      "\n",
      "Confidence of the association rule ('BREAD', 'COFFEE') --> {'SUGER'} = 66.67%\n",
      "STATUS : REJECTED RULE\n",
      "\n",
      "Confidence of the association rule ('BREAD', 'SUGER') --> {'COFFEE'} = 50.00%\n",
      "STATUS : REJECTED RULE\n",
      "\n",
      "Confidence of the association rule ('COFFEE', 'SUGER') --> {'BREAD'} = 50.00%\n",
      "STATUS : REJECTED RULE\n",
      "\n",
      "Confidence of the association rule ('BREAD', 'JAM') --> {'MAGGI'} = 100.00%\n",
      "STATUS : SELECTED RULE\n",
      "\n",
      "Confidence of the association rule ('BREAD', 'MAGGI') --> {'JAM'} = 66.67%\n",
      "STATUS : REJECTED RULE\n",
      "\n",
      "Confidence of the association rule ('JAM', 'MAGGI') --> {'BREAD'} = 100.00%\n",
      "STATUS : SELECTED RULE\n",
      "\n",
      "Confidence of the association rule ('BREAD', 'MAGGI') --> {'TEA'} = 66.67%\n",
      "STATUS : REJECTED RULE\n",
      "\n",
      "Confidence of the association rule ('BREAD', 'TEA') --> {'MAGGI'} = 50.00%\n",
      "STATUS : REJECTED RULE\n",
      "\n",
      "Confidence of the association rule ('MAGGI', 'TEA') --> {'BREAD'} = 50.00%\n",
      "STATUS : REJECTED RULE\n",
      "\n",
      "Confidence of the association rule ('COCK', 'COFFEE') --> {'CORNFLAKES'} = 66.67%\n",
      "STATUS : REJECTED RULE\n",
      "\n",
      "Confidence of the association rule ('COCK', 'CORNFLAKES') --> {'COFFEE'} = 100.00%\n",
      "STATUS : SELECTED RULE\n",
      "\n",
      "Confidence of the association rule ('COFFEE', 'CORNFLAKES') --> {'COCK'} = 50.00%\n",
      "STATUS : REJECTED RULE\n",
      "\n"
     ]
    }
   ],
   "source": [
    "l3_assc = list(l3.keys())\n",
    "selected_assc = []\n",
    "for i in range(len(l3_assc)):\n",
    "    for it1 in assc_sets[i]:\n",
    "        denom = it1\n",
    "        num = set(l3_assc[i]) - set(it1)\n",
    "        confidence = ((sup_calc(l3_assc[i],items))/(sup_calc(it1,items)))*100\n",
    "        if confidence > min_conf:\n",
    "            print(\"Confidence of the association rule {} --> {} = {:.2f}%\".format(denom,num,confidence))\n",
    "            print(\"STATUS : SELECTED RULE\\n\")\n",
    "        else:\n",
    "            print(\"Confidence of the association rule {} --> {} = {:.2f}%\".format(denom,num,confidence))\n",
    "            print(\"STATUS : REJECTED RULE\\n\")"
   ]
  }
 ],
 "metadata": {
  "kernelspec": {
   "display_name": "Python 3",
   "language": "python",
   "name": "python3"
  },
  "language_info": {
   "codemirror_mode": {
    "name": "ipython",
    "version": 3
   },
   "file_extension": ".py",
   "mimetype": "text/x-python",
   "name": "python",
   "nbconvert_exporter": "python",
   "pygments_lexer": "ipython3",
   "version": "3.7.6"
  },
  "papermill": {
   "duration": 6.992078,
   "end_time": "2020-08-17T16:41:00.070176",
   "environment_variables": {},
   "exception": null,
   "input_path": "__notebook__.ipynb",
   "output_path": "__notebook__.ipynb",
   "parameters": {},
   "start_time": "2020-08-17T16:40:53.078098",
   "version": "2.1.0"
  }
 },
 "nbformat": 4,
 "nbformat_minor": 4
}
