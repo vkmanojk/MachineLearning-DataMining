{
 "cells": [
  {
   "cell_type": "markdown",
   "metadata": {},
   "source": [
    "### Import Statements"
   ]
  },
  {
   "cell_type": "code",
   "execution_count": 19,
   "metadata": {
    "ExecuteTime": {
     "end_time": "2020-09-15T09:28:53.830363Z",
     "start_time": "2020-09-15T09:28:53.814373Z"
    }
   },
   "outputs": [],
   "source": [
    "import pandas as pd\n",
    "import numpy as np\n",
    "import random\n",
    "import operator\n",
    "import math\n",
    "import matplotlib.pyplot as plt \n",
    "from scipy.stats import multivariate_normal\n",
    "import seaborn as sns"
   ]
  },
  {
   "cell_type": "markdown",
   "metadata": {},
   "source": [
    "## Reading and Understanding Data"
   ]
  },
  {
   "cell_type": "code",
   "execution_count": 14,
   "metadata": {
    "ExecuteTime": {
     "end_time": "2020-09-15T09:26:51.528898Z",
     "start_time": "2020-09-15T09:26:51.504873Z"
    }
   },
   "outputs": [],
   "source": [
    "df = pd.read_csv('SPECTF_New.csv')"
   ]
  },
  {
   "cell_type": "code",
   "execution_count": 15,
   "metadata": {
    "ExecuteTime": {
     "end_time": "2020-09-15T09:26:52.136870Z",
     "start_time": "2020-09-15T09:26:52.096870Z"
    }
   },
   "outputs": [
    {
     "data": {
      "text/html": [
       "<div>\n",
       "<style scoped>\n",
       "    .dataframe tbody tr th:only-of-type {\n",
       "        vertical-align: middle;\n",
       "    }\n",
       "\n",
       "    .dataframe tbody tr th {\n",
       "        vertical-align: top;\n",
       "    }\n",
       "\n",
       "    .dataframe thead th {\n",
       "        text-align: right;\n",
       "    }\n",
       "</style>\n",
       "<table border=\"1\" class=\"dataframe\">\n",
       "  <thead>\n",
       "    <tr style=\"text-align: right;\">\n",
       "      <th></th>\n",
       "      <th>Attr_1</th>\n",
       "      <th>Attr_2</th>\n",
       "      <th>Attr_3</th>\n",
       "      <th>Attr_4</th>\n",
       "      <th>Attr_5</th>\n",
       "      <th>Attr_6</th>\n",
       "      <th>Attr_7</th>\n",
       "      <th>Attr_8</th>\n",
       "      <th>Attr_9</th>\n",
       "      <th>Attr_10</th>\n",
       "      <th>...</th>\n",
       "      <th>Attr_36</th>\n",
       "      <th>Attr_37</th>\n",
       "      <th>Attr_38</th>\n",
       "      <th>Attr_39</th>\n",
       "      <th>Attr_40</th>\n",
       "      <th>Attr_41</th>\n",
       "      <th>Attr_42</th>\n",
       "      <th>Attr_43</th>\n",
       "      <th>Attr_44</th>\n",
       "      <th>Class</th>\n",
       "    </tr>\n",
       "  </thead>\n",
       "  <tbody>\n",
       "    <tr>\n",
       "      <th>0</th>\n",
       "      <td>57</td>\n",
       "      <td>69</td>\n",
       "      <td>68</td>\n",
       "      <td>75</td>\n",
       "      <td>69</td>\n",
       "      <td>74</td>\n",
       "      <td>73</td>\n",
       "      <td>71</td>\n",
       "      <td>57</td>\n",
       "      <td>61</td>\n",
       "      <td>...</td>\n",
       "      <td>58</td>\n",
       "      <td>69</td>\n",
       "      <td>67</td>\n",
       "      <td>79</td>\n",
       "      <td>77</td>\n",
       "      <td>72</td>\n",
       "      <td>70</td>\n",
       "      <td>61</td>\n",
       "      <td>65</td>\n",
       "      <td>Yes</td>\n",
       "    </tr>\n",
       "    <tr>\n",
       "      <th>1</th>\n",
       "      <td>76</td>\n",
       "      <td>59</td>\n",
       "      <td>82</td>\n",
       "      <td>76</td>\n",
       "      <td>80</td>\n",
       "      <td>56</td>\n",
       "      <td>74</td>\n",
       "      <td>67</td>\n",
       "      <td>67</td>\n",
       "      <td>58</td>\n",
       "      <td>...</td>\n",
       "      <td>66</td>\n",
       "      <td>73</td>\n",
       "      <td>61</td>\n",
       "      <td>71</td>\n",
       "      <td>49</td>\n",
       "      <td>53</td>\n",
       "      <td>45</td>\n",
       "      <td>29</td>\n",
       "      <td>15</td>\n",
       "      <td>Yes</td>\n",
       "    </tr>\n",
       "    <tr>\n",
       "      <th>2</th>\n",
       "      <td>65</td>\n",
       "      <td>62</td>\n",
       "      <td>67</td>\n",
       "      <td>68</td>\n",
       "      <td>65</td>\n",
       "      <td>67</td>\n",
       "      <td>71</td>\n",
       "      <td>71</td>\n",
       "      <td>64</td>\n",
       "      <td>56</td>\n",
       "      <td>...</td>\n",
       "      <td>63</td>\n",
       "      <td>74</td>\n",
       "      <td>63</td>\n",
       "      <td>77</td>\n",
       "      <td>79</td>\n",
       "      <td>68</td>\n",
       "      <td>70</td>\n",
       "      <td>59</td>\n",
       "      <td>56</td>\n",
       "      <td>Yes</td>\n",
       "    </tr>\n",
       "    <tr>\n",
       "      <th>3</th>\n",
       "      <td>70</td>\n",
       "      <td>54</td>\n",
       "      <td>66</td>\n",
       "      <td>66</td>\n",
       "      <td>76</td>\n",
       "      <td>46</td>\n",
       "      <td>74</td>\n",
       "      <td>58</td>\n",
       "      <td>68</td>\n",
       "      <td>52</td>\n",
       "      <td>...</td>\n",
       "      <td>55</td>\n",
       "      <td>65</td>\n",
       "      <td>56</td>\n",
       "      <td>65</td>\n",
       "      <td>44</td>\n",
       "      <td>73</td>\n",
       "      <td>36</td>\n",
       "      <td>51</td>\n",
       "      <td>28</td>\n",
       "      <td>Yes</td>\n",
       "    </tr>\n",
       "    <tr>\n",
       "      <th>4</th>\n",
       "      <td>64</td>\n",
       "      <td>64</td>\n",
       "      <td>70</td>\n",
       "      <td>75</td>\n",
       "      <td>70</td>\n",
       "      <td>71</td>\n",
       "      <td>74</td>\n",
       "      <td>71</td>\n",
       "      <td>59</td>\n",
       "      <td>60</td>\n",
       "      <td>...</td>\n",
       "      <td>66</td>\n",
       "      <td>61</td>\n",
       "      <td>56</td>\n",
       "      <td>64</td>\n",
       "      <td>65</td>\n",
       "      <td>71</td>\n",
       "      <td>73</td>\n",
       "      <td>57</td>\n",
       "      <td>63</td>\n",
       "      <td>Yes</td>\n",
       "    </tr>\n",
       "  </tbody>\n",
       "</table>\n",
       "<p>5 rows × 45 columns</p>\n",
       "</div>"
      ],
      "text/plain": [
       "   Attr_1  Attr_2  Attr_3  Attr_4  Attr_5  Attr_6  Attr_7  Attr_8  Attr_9  \\\n",
       "0      57      69      68      75      69      74      73      71      57   \n",
       "1      76      59      82      76      80      56      74      67      67   \n",
       "2      65      62      67      68      65      67      71      71      64   \n",
       "3      70      54      66      66      76      46      74      58      68   \n",
       "4      64      64      70      75      70      71      74      71      59   \n",
       "\n",
       "   Attr_10  ...  Attr_36  Attr_37  Attr_38  Attr_39  Attr_40  Attr_41  \\\n",
       "0       61  ...       58       69       67       79       77       72   \n",
       "1       58  ...       66       73       61       71       49       53   \n",
       "2       56  ...       63       74       63       77       79       68   \n",
       "3       52  ...       55       65       56       65       44       73   \n",
       "4       60  ...       66       61       56       64       65       71   \n",
       "\n",
       "   Attr_42  Attr_43  Attr_44  Class  \n",
       "0       70       61       65    Yes  \n",
       "1       45       29       15    Yes  \n",
       "2       70       59       56    Yes  \n",
       "3       36       51       28    Yes  \n",
       "4       73       57       63    Yes  \n",
       "\n",
       "[5 rows x 45 columns]"
      ]
     },
     "execution_count": 15,
     "metadata": {},
     "output_type": "execute_result"
    }
   ],
   "source": [
    "df.head()"
   ]
  },
  {
   "cell_type": "code",
   "execution_count": 17,
   "metadata": {
    "ExecuteTime": {
     "end_time": "2020-09-15T09:27:12.723620Z",
     "start_time": "2020-09-15T09:27:12.699618Z"
    }
   },
   "outputs": [
    {
     "data": {
      "text/plain": [
       "Attr_1     0\n",
       "Attr_2     0\n",
       "Attr_3     0\n",
       "Attr_4     0\n",
       "Attr_5     0\n",
       "Attr_6     0\n",
       "Attr_7     0\n",
       "Attr_8     0\n",
       "Attr_9     0\n",
       "Attr_10    0\n",
       "Attr_11    0\n",
       "Attr_12    0\n",
       "Attr_13    0\n",
       "Attr_14    0\n",
       "Attr_15    0\n",
       "Attr_16    0\n",
       "Attr_17    0\n",
       "Attr_18    0\n",
       "Attr_19    0\n",
       "Attr_20    0\n",
       "Attr_21    0\n",
       "Attr_22    0\n",
       "Attr_23    0\n",
       "Attr_24    0\n",
       "Attr_25    0\n",
       "Attr_26    0\n",
       "Attr_27    0\n",
       "Attr_28    0\n",
       "Attr_29    0\n",
       "Attr_30    0\n",
       "Attr_31    0\n",
       "Attr_32    0\n",
       "Attr_33    0\n",
       "Attr_34    0\n",
       "Attr_35    0\n",
       "Attr_36    0\n",
       "Attr_37    0\n",
       "Attr_38    0\n",
       "Attr_39    0\n",
       "Attr_40    0\n",
       "Attr_41    0\n",
       "Attr_42    0\n",
       "Attr_43    0\n",
       "Attr_44    0\n",
       "Class      0\n",
       "dtype: int64"
      ]
     },
     "execution_count": 17,
     "metadata": {},
     "output_type": "execute_result"
    }
   ],
   "source": [
    "df.isnull().sum()"
   ]
  },
  {
   "cell_type": "code",
   "execution_count": 18,
   "metadata": {
    "ExecuteTime": {
     "end_time": "2020-09-15T09:27:24.321510Z",
     "start_time": "2020-09-15T09:27:24.305506Z"
    }
   },
   "outputs": [
    {
     "data": {
      "text/plain": [
       "0"
      ]
     },
     "execution_count": 18,
     "metadata": {},
     "output_type": "execute_result"
    }
   ],
   "source": [
    "df.isnull().sum().sum()"
   ]
  },
  {
   "cell_type": "markdown",
   "metadata": {},
   "source": [
    "**No Null Values**\n",
    "\n",
    "*Also no need to scale the data as the data points are similar in values*"
   ]
  },
  {
   "cell_type": "code",
   "execution_count": null,
   "metadata": {},
   "outputs": [],
   "source": []
  },
  {
   "cell_type": "code",
   "execution_count": 4,
   "metadata": {
    "ExecuteTime": {
     "end_time": "2020-09-15T09:15:18.722032Z",
     "start_time": "2020-09-15T09:15:12.051926Z"
    }
   },
   "outputs": [
    {
     "name": "stdout",
     "output_type": "stream",
     "text": [
      "Requirement already satisfied: fuzzy-c-means in c:\\users\\sudharshan\\anaconda3\\lib\\site-packages (0.0.6)\n",
      "Requirement already satisfied: numpy>=1.15.4 in c:\\users\\sudharshan\\anaconda3\\lib\\site-packages (from fuzzy-c-means) (1.19.1)\n",
      "Requirement already satisfied: scipy>=1.1.0 in c:\\users\\sudharshan\\anaconda3\\lib\\site-packages (from fuzzy-c-means) (1.2.1)\n"
     ]
    }
   ],
   "source": [
    "!pip install fuzzy-c-means"
   ]
  },
  {
   "cell_type": "markdown",
   "metadata": {},
   "source": [
    "### Applying PCA to Reduce the dimensions so that the data is ready to be fed to FCM algorithm"
   ]
  },
  {
   "cell_type": "code",
   "execution_count": 10,
   "metadata": {
    "ExecuteTime": {
     "end_time": "2020-09-15T09:20:28.402447Z",
     "start_time": "2020-09-15T09:20:28.378456Z"
    }
   },
   "outputs": [],
   "source": [
    "from sklearn.decomposition import PCA \n",
    "pca = PCA(n_components = 2) \n",
    "\n",
    "X = df.values[:, :-1] \n",
    "y = df.values[:,-1]\n",
    "\n",
    "x = pca.fit_transform(X)"
   ]
  },
  {
   "cell_type": "code",
   "execution_count": 11,
   "metadata": {
    "ExecuteTime": {
     "end_time": "2020-09-15T09:20:39.997554Z",
     "start_time": "2020-09-15T09:20:39.159918Z"
    }
   },
   "outputs": [
    {
     "data": {
      "text/plain": [
       "<fcmeans.fcm.FCM at 0x296258fe860>"
      ]
     },
     "execution_count": 11,
     "metadata": {},
     "output_type": "execute_result"
    }
   ],
   "source": [
    "from fcmeans import FCM\n",
    "\n",
    "fcm = FCM(n_clusters=2)\n",
    "fcm.fit(x)"
   ]
  },
  {
   "cell_type": "code",
   "execution_count": 13,
   "metadata": {
    "ExecuteTime": {
     "end_time": "2020-09-15T09:22:14.313548Z",
     "start_time": "2020-09-15T09:22:02.141722Z"
    }
   },
   "outputs": [
    {
     "data": {
      "image/png": "[encoded data removed]",
      "text/plain": [
       "<Figure size 792x360 with 2 Axes>"
      ]
     },
     "metadata": {
      "needs_background": "light"
     },
     "output_type": "display_data"
    }
   ],
   "source": [
    "fcm_centers = fcm.centers\n",
    "fcm_labels = fcm.u.argmax(axis=1)\n",
    "\n",
    "import matplotlib.pyplot as plt\n",
    "from seaborn import scatterplot as scatter\n",
    "%matplotlib inline\n",
    "\n",
    "f, axes = plt.subplots(1, 2, figsize=(11,5))\n",
    "scatter(x[:,0], x[:,1], ax=axes[0])\n",
    "scatter(x[:,0], x[:,1], ax=axes[1], hue=fcm_labels)\n",
    "scatter(fcm_centers[:,0], fcm_centers[:,1], ax=axes[1],marker=\"s\",s=200)\n",
    "plt.show()"
   ]
  },
  {
   "cell_type": "code",
   "execution_count": null,
   "metadata": {},
   "outputs": [],
   "source": [
    "import pandas as pd\n",
    "import numpy as np\n",
    "import random\n",
    "import operator\n",
    "import math\n",
    "df_full = pd.read_csv(\"/content/drive/My Drive/Colab Notebooks/clustering/SPECTF_N\n",
    "columns = list(df_full.columns)\n",
    "features = columns[:len(columns)-1]\n",
    "class_labels = list(df_full[columns[-1]])\n",
    "df = df_full[features]\n",
    "# Number of Attributes\n",
    "num_attr = len(df.columns) - 1\n",
    "# Number of Clusters\n",
    "k = 2\n",
    "# Maximum number of iterations\n",
    "MAX_ITER = 1000\n",
    "# Number of data points\n",
    "n = len(df)\n",
    "# Fuzzy parameter\n",
    "m = 2.00\n",
    "def accuracy(cluster_labels, class_labels):\n",
    " county = [0,0]\n",
    " countn = [0,0]\n",
    " tp = [0, 0]\n",
    " tn = [0, 0]\n",
    " fp = [0, 0]\n",
    " fn = [0, 0]\n",
    "\n",
    " for i in range(len(df)):\n",
    " if cluster_labels[i] == 1 and class_labels[i] == 'Yes':\n",
    " tp[0] = tp[0] + 1\n",
    " if cluster_labels[i] == 0 and class_labels[i] == 'No':\n",
    "tn[0] tn[0] + 1\n",
    "\n",
    " tn[0] = tn[0] + 1\n",
    " if cluster_labels[i] == 1 and class_labels[i] == 'No':\n",
    " fp[0] = fp[0] + 1\n",
    " if cluster_labels[i] == 0 and class_labels[i] == 'Yes':\n",
    " fn[0] = fn[0] + 1\n",
    "\n",
    " for i in range(len(df)):\n",
    " # Yes = 0, No = 1\n",
    " if cluster_labels[i] == 0 and class_labels[i] == 'Yes':\n",
    " tp[1] = tp[1] + 1\n",
    " if cluster_labels[i] == 1 and class_labels[i] == 'No':\n",
    " tn[1] = tn[1] + 1\n",
    " if cluster_labels[i] == 0 and class_labels[i] == 'No':\n",
    " fp[1] = fp[1] + 1\n",
    " if cluster_labels[i] == 1 and class_labels[i] == 'Yes':\n",
    " fn[1] = fn[1] + 1\n",
    "\n",
    " a0 = float((tp[0] + tn[0]))/(tp[0] + tn[0] + fn[0] + fp[0])\n",
    " a1 = float((tp[1] + tn[1]))/(tp[1] + tn[1] + fn[1] + fp[1])\n",
    " p0 = float(tp[0])/(tp[0] + fp[0])\n",
    " try:\n",
    " p1= float(tp[1])/(tp[1] + fp[1])\n",
    " except ZeroDivisionError:\n",
    " print ('0')\n",
    " p1=0\n",
    " r0 = float(tp[0])/(tp[0] + fn[0])\n",
    " r1 = float(tp[1])/(tp[1] + fn[1])\n",
    "\n",
    " accuracy = [a0*100,a1*100]\n",
    " precision = [p0*100,p1*100]\n",
    " recall = [r0*100,r1*100]\n",
    "\n",
    " return accuracy, precision, recall\n",
    "def initializeMembershipMatrix():\n",
    " membership_mat = list()\n",
    " for i in range(n):\n",
    " random_num_list = [random.random() for i in range(k)]\n",
    " summation = sum(random_num_list)\n",
    " temp_list = [x/summation for x in random_num_list]\n",
    " membership_mat.append(temp_list)\n",
    " return membership_mat\n",
    "def calculateClusterCenter(membership_mat):\n",
    " cluster_centers = list(zip(*membership_mat))\n",
    " #cluster_centers = list()\n",
    " for j in range(k):\n",
    " x = list(cluster_centers[j])\n",
    " xraised = [e ** m for e in x]\n",
    " denominator = sum(xraised)\n",
    " temp_num = list()\n",
    " for i in range(n):\n",
    " data_point = list(df.iloc[i])\n",
    "prod = [xraised[i] * val for val in data point]\n",
    "\n",
    " prod = [xraised[i] * val for val in data_point]\n",
    " temp_num.append(prod)\n",
    " numerator = map(sum, zip(*temp_num))\n",
    " center = [z/denominator for z in numerator]\n",
    " cluster_centers.append(center)\n",
    " return cluster_centers\n",
    "def updateMembershipValue(membership_mat, cluster_centers):\n",
    " p = float(2/(m-1))\n",
    " for i in range(n):\n",
    " x = list(df.iloc[i])\n",
    " distances = [np.linalg.norm(list(map(operator.sub, x, cluster_centers[j]))\n",
    " for j in range(k):\n",
    " den = sum([math.pow(float(distances[j]/distances[c]), p) for c in rang\n",
    " membership_mat[i][j] = float(1/den)\n",
    " return membership_mat\n",
    "def getClusters(membership_mat):\n",
    " cluster_labels = list()\n",
    " for i in range(n):\n",
    " max_val, idx = max((val, idx) for (idx, val) in enumerate(membership_mat[i\n",
    " cluster_labels.append(idx)\n",
    " return cluster_labels\n",
    "def fuzzyCMeansClustering():\n",
    " # Membership Matrix\n",
    " membership_mat = initializeMembershipMatrix()\n",
    " curr = 0\n",
    " while curr <= MAX_ITER:\n",
    " cluster_centers = calculateClusterCenter(membership_mat)\n",
    " membership_mat = updateMembershipValue(membership_mat, cluster_centers)\n",
    " cluster_labels = getClusters(membership_mat)\n",
    " curr += 1\n",
    " print(membership_mat)\n",
    " return cluster_labels, cluster_centers\n",
    "labels, centers = fuzzyCMeansClustering()\n",
    "a,p,r = accuracy(labels, class_labels)\n",
    "print(\"Accuracy = \" + str(a))\n",
    "print(\"Precision = \" + str(p))\n",
    "print(\"Recall = \" + str(r))"
   ]
  }
 ],
 "metadata": {
  "kernelspec": {
   "display_name": "Python 3",
   "language": "python",
   "name": "python3"
  },
  "language_info": {
   "codemirror_mode": {
    "name": "ipython",
    "version": 3
   },
   "file_extension": ".py",
   "mimetype": "text/x-python",
   "name": "python",
   "nbconvert_exporter": "python",
   "pygments_lexer": "ipython3",
   "version": "3.7.6"
  },
  "varInspector": {
   "cols": {
    "lenName": 16,
    "lenType": 16,
    "lenVar": 40
   },
   "kernels_config": {
    "python": {
     "delete_cmd_postfix": "",
     "delete_cmd_prefix": "del ",
     "library": "var_list.py",
     "varRefreshCmd": "print(var_dic_list())"
    },
    "r": {
     "delete_cmd_postfix": ") ",
     "delete_cmd_prefix": "rm(",
     "library": "var_list.r",
     "varRefreshCmd": "cat(var_dic_list()) "
    }
   },
   "types_to_exclude": [
    "module",
    "function",
    "builtin_function_or_method",
    "instance",
    "_Feature"
   ],
   "window_display": false
  }
 },
 "nbformat": 4,
 "nbformat_minor": 2
}
