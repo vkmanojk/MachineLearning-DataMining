{
 "cells": [
  {
   "cell_type": "code",
   "execution_count": 9,
   "metadata": {},
   "outputs": [],
   "source": [
    "import numpy as np\n",
    "import seaborn as sns\n",
    "from matplotlib import pyplot as plt"
   ]
  },
  {
   "cell_type": "code",
   "execution_count": 10,
   "metadata": {},
   "outputs": [],
   "source": [
    "employees = 100\n",
    "wage = 200\n",
    "n = 50\n",
    "p = 0.04\n",
    "revenue = 100\n",
    "sims = 1000 #Simulating for a 1000 days"
   ]
  },
  {
   "cell_type": "code",
   "execution_count": 11,
   "metadata": {},
   "outputs": [],
   "source": [
    "orig_coversions = [np.sum(np.random.binomial(n, p, size=employees)) for i in range(sims)]\n",
    "orig_profits = np.array(orig_coversions)*revenue - employees*wage"
   ]
  },
  {
   "cell_type": "code",
   "execution_count": 13,
   "metadata": {},
   "outputs": [
    {
     "data": {
      "text/plain": [
       "array([0, 3, 2, 2, 1, 2, 3, 2, 5, 0, 1, 2, 3, 2, 1, 0, 0, 1, 2, 2, 4, 0,\n",
       "       2, 3, 5, 3, 1, 2, 1, 1, 4, 2, 1, 1, 3, 1, 1, 1, 2, 3, 2, 3, 4, 4,\n",
       "       1, 3, 0, 1, 4, 2, 3, 4, 2, 2, 1, 0, 0, 0, 2, 0, 2, 1, 2, 2, 1, 1,\n",
       "       2, 2, 5, 3, 1, 4, 3, 4, 0, 3, 1, 5, 3, 2, 2, 1, 5, 3, 2, 1, 1, 1,\n",
       "       1, 4, 1, 1, 2, 4, 2, 0, 2, 4, 2, 2])"
      ]
     },
     "execution_count": 13,
     "metadata": {},
     "output_type": "execute_result"
    }
   ],
   "source": [
    "np.random.binomial(n, p, size=employees)"
   ]
  },
  {
   "cell_type": "code",
   "execution_count": 4,
   "metadata": {},
   "outputs": [
    {
     "name": "stdout",
     "output_type": "stream",
     "text": [
      "Original simulation results\n"
     ]
    },
    {
     "data": {
      "text/plain": [
       "<matplotlib.axes._subplots.AxesSubplot at 0x7f496653d710>"
      ]
     },
     "execution_count": 4,
     "metadata": {},
     "output_type": "execute_result"
    },
    {
     "data": {
      "image/png": "[encoded data removed]",
      "text/plain": [
       "<Figure size 432x288 with 1 Axes>"
      ]
     },
     "metadata": {
      "needs_background": "light"
     },
     "output_type": "display_data"
    }
   ],
   "source": [
    "print('Original simulation results')\n",
    "sns.distplot(orig_profits)"
   ]
  },
  {
   "cell_type": "code",
   "execution_count": 5,
   "metadata": {},
   "outputs": [
    {
     "name": "stdout",
     "output_type": "stream",
     "text": [
      "Average Conversions per Employee: 200.68\n",
      "Standard Deviation of Conversions per Employee: 14.0\n",
      "Total Conversions: 200682\n",
      "Total Revenues: 20068200\n",
      "Total Expense: 20000\n",
      "Total Profits: 20048200\n"
     ]
    }
   ],
   "source": [
    "print('Average Conversions per Employee: ' + str(round(np.mean(orig_coversions), 2)))\n",
    "print('Standard Deviation of Conversions per Employee: ' + str(round(np.std(orig_coversions))))\n",
    "print('Total Conversions: ' + str(np.sum(orig_coversions)))\n",
    "print('Total Revenues: ' + str(np.sum(orig_coversions)*revenue))\n",
    "print('Total Expense: ' + str(employees*wage))\n",
    "print('Total Profits: ' + str(np.sum(orig_coversions)*revenue - employees*wage))"
   ]
  },
  {
   "cell_type": "code",
   "execution_count": 6,
   "metadata": {},
   "outputs": [],
   "source": [
    "#Using different values\n",
    "n = 55\n",
    "p = 0.05\n",
    "sim_conversions = [np.sum(np.random.binomial(n, p, size=employees)) for i in range(sims)]\n",
    "sim_profits = np.array(sim_conversions)*revenue - employees*wage"
   ]
  },
  {
   "cell_type": "code",
   "execution_count": 7,
   "metadata": {},
   "outputs": [
    {
     "name": "stdout",
     "output_type": "stream",
     "text": [
      "Improvised simulation results\n"
     ]
    },
    {
     "data": {
      "text/plain": [
       "<matplotlib.axes._subplots.AxesSubplot at 0x7f496746d4d0>"
      ]
     },
     "execution_count": 7,
     "metadata": {},
     "output_type": "execute_result"
    },
    {
     "data": {
      "image/png": "[encoded data removed]",
      "text/plain": [
       "<Figure size 432x288 with 1 Axes>"
      ]
     },
     "metadata": {
      "needs_background": "light"
     },
     "output_type": "display_data"
    }
   ],
   "source": [
    "print('Improvised simulation results')\n",
    "sns.distplot(sim_profits)"
   ]
  },
  {
   "cell_type": "code",
   "execution_count": 8,
   "metadata": {},
   "outputs": [
    {
     "name": "stdout",
     "output_type": "stream",
     "text": [
      "Average Conversions per Employee: 274.68\n",
      "Standard Deviation of Conversions per Employee: 16.0\n",
      "Total Conversions: 274685\n",
      "Total Revenues: 27468500\n",
      "Total Expense: 20000\n",
      "Total Profits: 27448500\n"
     ]
    }
   ],
   "source": [
    "print('Average Conversions per Employee: ' + str(round(np.mean(sim_conversions), 2)))\n",
    "print('Standard Deviation of Conversions per Employee: ' + str(round(np.std(sim_conversions))))\n",
    "print('Total Conversions: ' + str(np.sum(sim_conversions)))\n",
    "print('Total Revenues: ' + str(np.sum(sim_conversions)*revenue))\n",
    "print('Total Expense: ' + str(employees*wage))\n",
    "print('Total Profits: ' + str(np.sum(sim_conversions)*revenue - employees*wage))"
   ]
  },
  {
   "cell_type": "code",
   "execution_count": 14,
   "metadata": {},
   "outputs": [
    {
     "ename": "SyntaxError",
     "evalue": "invalid syntax (<ipython-input-14-01bdb64505cf>, line 8)",
     "output_type": "error",
     "traceback": [
      "\u001b[0;36m  File \u001b[0;32m\"<ipython-input-14-01bdb64505cf>\"\u001b[0;36m, line \u001b[0;32m8\u001b[0m\n\u001b[0;31m    handler: function(env) {\u001b[0m\n\u001b[0m                           ^\u001b[0m\n\u001b[0;31mSyntaxError\u001b[0m\u001b[0;31m:\u001b[0m invalid syntax\n"
     ]
    }
   ],
   "source": []
  },
  {
   "cell_type": "code",
   "execution_count": null,
   "metadata": {},
   "outputs": [],
   "source": []
  }
 ],
 "metadata": {
  "kernelspec": {
   "display_name": "Python 3",
   "language": "python",
   "name": "python3"
  },
  "language_info": {
   "codemirror_mode": {
    "name": "ipython",
    "version": 3
   },
   "file_extension": ".py",
   "mimetype": "text/x-python",
   "name": "python",
   "nbconvert_exporter": "python",
   "pygments_lexer": "ipython3",
   "version": "3.7.6"
  }
 },
 "nbformat": 4,
 "nbformat_minor": 4
}
