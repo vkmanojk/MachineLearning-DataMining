{
 "cells": [
  {
   "cell_type": "markdown",
   "metadata": {
    "id": "jpm5DtMicl2L"
   },
   "source": [
    "# Collaborative Filtering for Movie Recommendations\n",
    "\n",
    "**Author:** [Siddhartha Banerjee](https://twitter.com/sidd2006)<br>\n",
    "**Date created:** 2020/05/24<br>\n",
    "**Last modified:** 2020/05/24<br>\n",
    "**Description:** Recommending movies using a model trained on Movielens dataset."
   ]
  },
  {
   "cell_type": "markdown",
   "metadata": {
    "id": "h5nsu-0Pcl2P"
   },
   "source": [
    "## Introduction\n",
    "\n",
    "This example demonstrates\n",
    "[Collaborative filtering](https://en.wikipedia.org/wiki/Collaborative_filtering)\n",
    "using the [Movielens dataset](https://www.kaggle.com/c/movielens-100k)\n",
    "to recommend movies to users.\n",
    "The MovieLens ratings dataset lists the ratings given by a set of users to a set of movies.\n",
    "Our goal is to be able to predict ratings for movies a user has not yet watched.\n",
    "The movies with the highest predicted ratings can then be recommended to the user.\n",
    "\n",
    "The steps in the model are as follows:\n",
    "\n",
    "1. Map user ID to a \"user vector\" via an embedding matrix\n",
    "2. Map movie ID to a \"movie vector\" via an embedding matrix\n",
    "3. Compute the dot product between the user vector and movie vector, to obtain\n",
    "the a match score between the user and the movie (predicted rating).\n",
    "4. Train the embeddings via gradient descent using all known user-movie pairs.\n",
    "\n",
    "**References:**\n",
    "\n",
    "- [Collaborative Filtering](https://dl.acm.org/doi/pdf/10.1145/371920.372071)\n",
    "- [Neural Collaborative Filtering](https://dl.acm.org/doi/pdf/10.1145/3038912.3052569)\n"
   ]
  },
  {
   "cell_type": "code",
   "execution_count": 52,
   "metadata": {
    "id": "IN1L6ld5cl2U"
   },
   "outputs": [],
   "source": [
    "import pandas as pd\n",
    "import numpy as np\n",
    "from zipfile import ZipFile\n",
    "import tensorflow as tf\n",
    "from tensorflow import keras\n",
    "from tensorflow.keras import layers\n",
    "from pathlib import Path\n",
    "import matplotlib.pyplot as plt\n",
    "import random\n",
    "\n",
    "from jupyterthemes import jtplot\n",
    "jtplot.style()"
   ]
  },
  {
   "cell_type": "markdown",
   "metadata": {
    "id": "ibyUoaaCcl2n"
   },
   "source": [
    "## First, load the data and apply preprocessing\n"
   ]
  },
  {
   "cell_type": "code",
   "execution_count": 2,
   "metadata": {
    "id": "RHWTAlx8cl2o"
   },
   "outputs": [],
   "source": [
    "# Download the actual data from http://files.grouplens.org/datasets/movielens/ml-latest-small.zip\"\n",
    "# Use the ratings.csv file\n",
    "movielens_data_file_url = (\n",
    "    \"http://files.grouplens.org/datasets/movielens/ml-latest-small.zip\"\n",
    ")\n",
    "movielens_zipped_file = keras.utils.get_file(\n",
    "    \"ml-latest-small.zip\", movielens_data_file_url, extract=False\n",
    ")\n",
    "keras_datasets_path = Path(movielens_zipped_file).parents[0]\n",
    "movielens_dir = keras_datasets_path / \"ml-latest-small\"\n",
    "\n",
    "# Only extract the data the first time the script is run.\n",
    "if not movielens_dir.exists():\n",
    "    with ZipFile(movielens_zipped_file, \"r\") as zip:\n",
    "        # Extract files\n",
    "        print(\"Extracting all the files now...\")\n",
    "        zip.extractall(path=keras_datasets_path)\n",
    "        print(\"Done!\")\n",
    "\n",
    "ratings_file = movielens_dir / \"ratings.csv\"\n",
    "df = pd.read_csv(ratings_file)\n"
   ]
  },
  {
   "cell_type": "markdown",
   "metadata": {
    "id": "uXExPLFUcl2x"
   },
   "source": [
    "## First, need to perform some preprocessing to encode users and movies as integer indices."
   ]
  },
  {
   "cell_type": "code",
   "execution_count": 3,
   "metadata": {
    "id": "UPS6PHb-cl20"
   },
   "outputs": [
    {
     "name": "stdout",
     "output_type": "stream",
     "text": [
      "Number of users: 610, Number of Movies: 9724, Min rating: 0.5, Max rating: 5.0\n"
     ]
    }
   ],
   "source": [
    "user_ids = df[\"userId\"].unique().tolist()\n",
    "user2user_encoded = {x: i for i, x in enumerate(user_ids)}\n",
    "userencoded2user = {i: x for i, x in enumerate(user_ids)}\n",
    "movie_ids = df[\"movieId\"].unique().tolist()\n",
    "movie2movie_encoded = {x: i for i, x in enumerate(movie_ids)}\n",
    "movie_encoded2movie = {i: x for i, x in enumerate(movie_ids)}\n",
    "df[\"user\"] = df[\"userId\"].map(user2user_encoded)\n",
    "df[\"movie\"] = df[\"movieId\"].map(movie2movie_encoded)\n",
    "\n",
    "num_users = len(user2user_encoded)\n",
    "num_movies = len(movie_encoded2movie)\n",
    "df[\"rating\"] = df[\"rating\"].values.astype(np.float32)\n",
    "# min and max ratings will be used to normalize the ratings later\n",
    "min_rating = min(df[\"rating\"])\n",
    "max_rating = max(df[\"rating\"])\n",
    "\n",
    "print(\n",
    "    \"Number of users: {}, Number of Movies: {}, Min rating: {}, Max rating: {}\".format(\n",
    "        num_users, num_movies, min_rating, max_rating\n",
    "    )\n",
    ")\n"
   ]
  },
  {
   "cell_type": "markdown",
   "metadata": {},
   "source": [
    "## Adding noise to the ratings"
   ]
  },
  {
   "cell_type": "code",
   "execution_count": 12,
   "metadata": {},
   "outputs": [
    {
     "name": "stdout",
     "output_type": "stream",
     "text": [
      "Mean Noise added (for scale 0.5): 0.04969565607758929\n",
      "Mean Noise added (for scale 1.0): 0.1430473822704418\n",
      "Mean Noise added (for scale 1.5): 0.2389160581617666\n",
      "Mean Noise added (for scale 2.0): 0.3320382928903571\n"
     ]
    },
    {
     "data": {
      "text/html": [
       "<div>\n",
       "<style scoped>\n",
       "    .dataframe tbody tr th:only-of-type {\n",
       "        vertical-align: middle;\n",
       "    }\n",
       "\n",
       "    .dataframe tbody tr th {\n",
       "        vertical-align: top;\n",
       "    }\n",
       "\n",
       "    .dataframe thead th {\n",
       "        text-align: right;\n",
       "    }\n",
       "</style>\n",
       "<table border=\"1\" class=\"dataframe\">\n",
       "  <thead>\n",
       "    <tr style=\"text-align: right;\">\n",
       "      <th></th>\n",
       "      <th>userId</th>\n",
       "      <th>movieId</th>\n",
       "      <th>rating</th>\n",
       "      <th>timestamp</th>\n",
       "      <th>user</th>\n",
       "      <th>movie</th>\n",
       "      <th>noisy_rating_0.5</th>\n",
       "      <th>noisy_rating_1.0</th>\n",
       "      <th>noisy_rating_1.5</th>\n",
       "      <th>noisy_rating_2.0</th>\n",
       "    </tr>\n",
       "  </thead>\n",
       "  <tbody>\n",
       "    <tr>\n",
       "      <th>0</th>\n",
       "      <td>1</td>\n",
       "      <td>1</td>\n",
       "      <td>4.0</td>\n",
       "      <td>964982703</td>\n",
       "      <td>0</td>\n",
       "      <td>0</td>\n",
       "      <td>4.064597</td>\n",
       "      <td>3.556441</td>\n",
       "      <td>3.391025</td>\n",
       "      <td>3.417030</td>\n",
       "    </tr>\n",
       "    <tr>\n",
       "      <th>1</th>\n",
       "      <td>1</td>\n",
       "      <td>3</td>\n",
       "      <td>4.0</td>\n",
       "      <td>964981247</td>\n",
       "      <td>0</td>\n",
       "      <td>1</td>\n",
       "      <td>3.199573</td>\n",
       "      <td>4.224058</td>\n",
       "      <td>3.799903</td>\n",
       "      <td>4.121923</td>\n",
       "    </tr>\n",
       "    <tr>\n",
       "      <th>2</th>\n",
       "      <td>1</td>\n",
       "      <td>6</td>\n",
       "      <td>4.0</td>\n",
       "      <td>964982224</td>\n",
       "      <td>0</td>\n",
       "      <td>2</td>\n",
       "      <td>4.161277</td>\n",
       "      <td>5.000000</td>\n",
       "      <td>1.614217</td>\n",
       "      <td>5.000000</td>\n",
       "    </tr>\n",
       "    <tr>\n",
       "      <th>3</th>\n",
       "      <td>1</td>\n",
       "      <td>47</td>\n",
       "      <td>5.0</td>\n",
       "      <td>964983815</td>\n",
       "      <td>0</td>\n",
       "      <td>3</td>\n",
       "      <td>4.533462</td>\n",
       "      <td>4.150380</td>\n",
       "      <td>4.288968</td>\n",
       "      <td>5.000000</td>\n",
       "    </tr>\n",
       "    <tr>\n",
       "      <th>4</th>\n",
       "      <td>1</td>\n",
       "      <td>50</td>\n",
       "      <td>5.0</td>\n",
       "      <td>964982931</td>\n",
       "      <td>0</td>\n",
       "      <td>4</td>\n",
       "      <td>5.000000</td>\n",
       "      <td>3.713520</td>\n",
       "      <td>1.194455</td>\n",
       "      <td>3.541102</td>\n",
       "    </tr>\n",
       "    <tr>\n",
       "      <th>...</th>\n",
       "      <td>...</td>\n",
       "      <td>...</td>\n",
       "      <td>...</td>\n",
       "      <td>...</td>\n",
       "      <td>...</td>\n",
       "      <td>...</td>\n",
       "      <td>...</td>\n",
       "      <td>...</td>\n",
       "      <td>...</td>\n",
       "      <td>...</td>\n",
       "    </tr>\n",
       "    <tr>\n",
       "      <th>100831</th>\n",
       "      <td>610</td>\n",
       "      <td>166534</td>\n",
       "      <td>4.0</td>\n",
       "      <td>1493848402</td>\n",
       "      <td>609</td>\n",
       "      <td>3120</td>\n",
       "      <td>4.581796</td>\n",
       "      <td>1.743055</td>\n",
       "      <td>5.000000</td>\n",
       "      <td>5.000000</td>\n",
       "    </tr>\n",
       "    <tr>\n",
       "      <th>100832</th>\n",
       "      <td>610</td>\n",
       "      <td>168248</td>\n",
       "      <td>5.0</td>\n",
       "      <td>1493850091</td>\n",
       "      <td>609</td>\n",
       "      <td>2035</td>\n",
       "      <td>4.568303</td>\n",
       "      <td>4.699660</td>\n",
       "      <td>5.000000</td>\n",
       "      <td>5.000000</td>\n",
       "    </tr>\n",
       "    <tr>\n",
       "      <th>100833</th>\n",
       "      <td>610</td>\n",
       "      <td>168250</td>\n",
       "      <td>5.0</td>\n",
       "      <td>1494273047</td>\n",
       "      <td>609</td>\n",
       "      <td>3121</td>\n",
       "      <td>4.309161</td>\n",
       "      <td>3.859366</td>\n",
       "      <td>4.753573</td>\n",
       "      <td>4.681704</td>\n",
       "    </tr>\n",
       "    <tr>\n",
       "      <th>100834</th>\n",
       "      <td>610</td>\n",
       "      <td>168252</td>\n",
       "      <td>5.0</td>\n",
       "      <td>1493846352</td>\n",
       "      <td>609</td>\n",
       "      <td>1392</td>\n",
       "      <td>5.000000</td>\n",
       "      <td>5.000000</td>\n",
       "      <td>4.895644</td>\n",
       "      <td>5.000000</td>\n",
       "    </tr>\n",
       "    <tr>\n",
       "      <th>100835</th>\n",
       "      <td>610</td>\n",
       "      <td>170875</td>\n",
       "      <td>3.0</td>\n",
       "      <td>1493846415</td>\n",
       "      <td>609</td>\n",
       "      <td>2873</td>\n",
       "      <td>2.695595</td>\n",
       "      <td>3.355728</td>\n",
       "      <td>3.091123</td>\n",
       "      <td>3.718331</td>\n",
       "    </tr>\n",
       "  </tbody>\n",
       "</table>\n",
       "<p>100836 rows × 10 columns</p>\n",
       "</div>"
      ],
      "text/plain": [
       "        userId  movieId  rating   timestamp  user  movie  noisy_rating_0.5  \\\n",
       "0            1        1     4.0   964982703     0      0          4.064597   \n",
       "1            1        3     4.0   964981247     0      1          3.199573   \n",
       "2            1        6     4.0   964982224     0      2          4.161277   \n",
       "3            1       47     5.0   964983815     0      3          4.533462   \n",
       "4            1       50     5.0   964982931     0      4          5.000000   \n",
       "...        ...      ...     ...         ...   ...    ...               ...   \n",
       "100831     610   166534     4.0  1493848402   609   3120          4.581796   \n",
       "100832     610   168248     5.0  1493850091   609   2035          4.568303   \n",
       "100833     610   168250     5.0  1494273047   609   3121          4.309161   \n",
       "100834     610   168252     5.0  1493846352   609   1392          5.000000   \n",
       "100835     610   170875     3.0  1493846415   609   2873          2.695595   \n",
       "\n",
       "        noisy_rating_1.0  noisy_rating_1.5  noisy_rating_2.0  \n",
       "0               3.556441          3.391025          3.417030  \n",
       "1               4.224058          3.799903          4.121923  \n",
       "2               5.000000          1.614217          5.000000  \n",
       "3               4.150380          4.288968          5.000000  \n",
       "4               3.713520          1.194455          3.541102  \n",
       "...                  ...               ...               ...  \n",
       "100831          1.743055          5.000000          5.000000  \n",
       "100832          4.699660          5.000000          5.000000  \n",
       "100833          3.859366          4.753573          4.681704  \n",
       "100834          5.000000          4.895644          5.000000  \n",
       "100835          3.355728          3.091123          3.718331  \n",
       "\n",
       "[100836 rows x 10 columns]"
      ]
     },
     "execution_count": 12,
     "metadata": {},
     "output_type": "execute_result"
    }
   ],
   "source": [
    "noise_scales = [0.5, 1.0, 1.5, 2.0]\n",
    "\n",
    "def addNoises(noise_scales):\n",
    "    \n",
    "    def correction(x):\n",
    "        if x < 0.0:\n",
    "            return 0\n",
    "        elif x > 5.0:\n",
    "            return 5.0\n",
    "        else:\n",
    "            return x\n",
    "        \n",
    "    for scale in noise_scales:\n",
    "        df[\"noisy_rating_\" + str(scale)] = df[\"rating\"].apply(lambda x: x + (random.choice([-1,1]) * np.random.laplace(scale=scale)))\n",
    "    \n",
    "\n",
    "        df[\"noisy_rating_\" + str(scale)] = df[\"noisy_rating_\" + str(scale)].apply(correction)\n",
    "        print(\"Mean Noise added (for scale \" + str(scale) + \"):\",(df[\"rating\"]-df[\"noisy_rating_\" + str(scale)]).mean())\n",
    "        \n",
    "addNoises(noise_scales)\n",
    "df"
   ]
  },
  {
   "cell_type": "markdown",
   "metadata": {
    "id": "G347G5n7cl28"
   },
   "source": [
    "## Prepare training and validation data\n"
   ]
  },
  {
   "cell_type": "code",
   "execution_count": 13,
   "metadata": {},
   "outputs": [
    {
     "data": {
      "text/plain": [
       "{'train_0.5': array([1.        , 0.41074042, 0.53247649, ..., 0.34850064, 0.93437603,\n",
       "        0.12080325]),\n",
       " 'val_0.5': array([0.42321142, 0.81361713, 0.49557022, ..., 0.40966747, 0.5693652 ,\n",
       "        0.94927373]),\n",
       " 'train_1.0': array([0.71042499, 0.62908492, 0.99530634, ..., 0.6354018 , 1.        ,\n",
       "        0.28918996]),\n",
       " 'val_1.0': array([0.85248393, 1.        , 0.5336478 , ..., 0.66242767, 0.41588621,\n",
       "        0.95913232]),\n",
       " 'train_1.5': array([ 0.75651156,  0.87494635,  0.18089342, ...,  0.67277668,\n",
       "         0.9136248 , -0.0913419 ]),\n",
       " 'val_1.5': array([0.55440921, 0.24760385, 1.        , ..., 0.69089101, 0.3883182 ,\n",
       "        0.65029824]),\n",
       " 'train_2.0': array([ 0.0759408 ,  0.62798085,  1.        , ...,  0.55506714,\n",
       "         0.96522442, -0.11111111]),\n",
       " 'val_2.0': array([ 0.11051435,  1.        , -0.11111111, ...,  0.08574313,\n",
       "         0.68926577,  1.        ])}"
      ]
     },
     "execution_count": 13,
     "metadata": {},
     "output_type": "execute_result"
    }
   ],
   "source": [
    "df = df.sample(frac=1, random_state=42)\n",
    "x = df[[\"user\", \"movie\"]].values\n",
    "# Normalize the targets between 0 and 1. Makes it easy to train.\n",
    "y = df[\"rating\"].apply(lambda x: (x - min_rating) / (max_rating - min_rating)).values\n",
    "# Assuming training on 90% of the data and validating on 10%.\n",
    "train_indices = int(0.9 * df.shape[0])\n",
    "x_train, x_val, y_train, y_val = (\n",
    "    x[:train_indices],\n",
    "    x[train_indices:],\n",
    "    y[:train_indices],\n",
    "    y[train_indices:],\n",
    ")\n",
    "\n",
    "y_noisy = dict()\n",
    "def getNoisyYs(noise_scales):\n",
    "    for scale in noise_scales:\n",
    "        y_noisy_temp = df[\"noisy_rating_\" + str(scale)].apply(lambda x: (x - min_rating) / (max_rating - min_rating)).values\n",
    "        y_noisy[\"train_\" + str(scale)] = y_noisy_temp[:train_indices]\n",
    "        y_noisy[\"val_\" + str(scale)] = y_noisy_temp[train_indices:]\n",
    "\n",
    "getNoisyYs(noise_scales)\n",
    "y_noisy"
   ]
  },
  {
   "cell_type": "markdown",
   "metadata": {
    "id": "YrUHka_Hcl3H"
   },
   "source": [
    "## Create the model\n",
    "\n",
    "We embed both users and movies in to 50-dimensional vectors.\n",
    "\n",
    "The model computes a match score between user and movie embeddings via a dot product,\n",
    "and adds a per-movie and per-user bias. The match score is scaled to the `[0, 1]`\n",
    "interval via a sigmoid (since our ratings are normalized to this range).\n"
   ]
  },
  {
   "cell_type": "code",
   "execution_count": 14,
   "metadata": {
    "id": "eL9iK_prcl3I"
   },
   "outputs": [],
   "source": [
    "EMBEDDING_SIZE = 50\n",
    "\n",
    "\n",
    "class RecommenderNet(keras.Model):\n",
    "    def __init__(self, num_users, num_movies, embedding_size, **kwargs):\n",
    "        super(RecommenderNet, self).__init__(**kwargs)\n",
    "        self.num_users = num_users\n",
    "        self.num_movies = num_movies\n",
    "        self.embedding_size = embedding_size\n",
    "        self.user_embedding = layers.Embedding(\n",
    "            num_users,\n",
    "            embedding_size,\n",
    "            embeddings_initializer=\"he_normal\",\n",
    "            embeddings_regularizer=keras.regularizers.l2(1e-6),\n",
    "        )\n",
    "        self.user_bias = layers.Embedding(num_users, 1)\n",
    "        self.movie_embedding = layers.Embedding(\n",
    "            num_movies,\n",
    "            embedding_size,\n",
    "            embeddings_initializer=\"he_normal\",\n",
    "            embeddings_regularizer=keras.regularizers.l2(1e-6),\n",
    "        )\n",
    "        self.movie_bias = layers.Embedding(num_movies, 1)\n",
    "\n",
    "    def call(self, inputs):\n",
    "        user_vector = self.user_embedding(inputs[:, 0])\n",
    "        user_bias = self.user_bias(inputs[:, 0])\n",
    "        movie_vector = self.movie_embedding(inputs[:, 1])\n",
    "        movie_bias = self.movie_bias(inputs[:, 1])\n",
    "        dot_user_movie = tf.tensordot(user_vector, movie_vector, 2)\n",
    "        # Add all the components (including bias)\n",
    "        x = dot_user_movie + user_bias + movie_bias\n",
    "        # The sigmoid activation forces the rating to between 0 and 1\n",
    "        return tf.nn.sigmoid(x)\n",
    "\n",
    "\n",
    "model_wo_noise = RecommenderNet(num_users, num_movies, EMBEDDING_SIZE)\n",
    "model_wo_noise.compile(\n",
    "    loss=tf.keras.losses.BinaryCrossentropy(), optimizer=keras.optimizers.Adam(lr=0.001)\n",
    ")\n"
   ]
  },
  {
   "cell_type": "markdown",
   "metadata": {
    "id": "eIT0js7icl3S"
   },
   "source": [
    "## Train the model based on the data split\n"
   ]
  },
  {
   "cell_type": "code",
   "execution_count": 7,
   "metadata": {
    "id": "0dxGspLYcl3T"
   },
   "outputs": [
    {
     "name": "stdout",
     "output_type": "stream",
     "text": [
      "Epoch 1/5\n",
      "1418/1418 [==============================] - 9s 6ms/step - loss: 0.6582 - val_loss: 0.6206\n",
      "Epoch 2/5\n",
      "1418/1418 [==============================] - 9s 6ms/step - loss: 0.6162 - val_loss: 0.6195\n",
      "Epoch 3/5\n",
      "1418/1418 [==============================] - 9s 6ms/step - loss: 0.6092 - val_loss: 0.6142\n",
      "Epoch 4/5\n",
      "1418/1418 [==============================] - 8s 6ms/step - loss: 0.6075 - val_loss: 0.6158\n",
      "Epoch 5/5\n",
      "1418/1418 [==============================] - 8s 6ms/step - loss: 0.6097 - val_loss: 0.6166\n"
     ]
    }
   ],
   "source": [
    "history_wo_noise = model_wo_noise.fit(\n",
    "    x=x_train,\n",
    "    y=y_train,\n",
    "    batch_size=64,\n",
    "    epochs=5,\n",
    "    verbose=1,\n",
    "    validation_data=(x_val, y_val),\n",
    ")\n"
   ]
  },
  {
   "cell_type": "markdown",
   "metadata": {
    "id": "OsOCDdP-cl3a"
   },
   "source": [
    "## Plot training and validation loss\n"
   ]
  },
  {
   "cell_type": "code",
   "execution_count": 8,
   "metadata": {
    "id": "kybki20jcl3b"
   },
   "outputs": [
    {
     "data": {
      "image/png": "[encoded data removed]",
      "text/plain": [
       "<Figure size 432x288 with 1 Axes>"
      ]
     },
     "metadata": {
      "needs_background": "light"
     },
     "output_type": "display_data"
    }
   ],
   "source": [
    "plt.plot(history_wo_noise.history[\"loss\"])\n",
    "plt.plot(history_wo_noise.history[\"val_loss\"])\n",
    "plt.title(\"model loss - without noise\")\n",
    "plt.ylabel(\"loss\")\n",
    "plt.xlabel(\"epoch\")\n",
    "plt.legend([\"train\", \"test\"], loc=\"upper left\")\n",
    "plt.show()\n"
   ]
  },
  {
   "cell_type": "code",
   "execution_count": 9,
   "metadata": {},
   "outputs": [
    {
     "name": "stdout",
     "output_type": "stream",
     "text": [
      "Epoch 1/5\n",
      "1418/1418 [==============================] - 9s 6ms/step - loss: 0.6579 - val_loss: 0.6200\n",
      "Epoch 2/5\n",
      "1418/1418 [==============================] - 8s 6ms/step - loss: 0.6154 - val_loss: 0.6177\n",
      "Epoch 3/5\n",
      "1418/1418 [==============================] - 8s 6ms/step - loss: 0.6105 - val_loss: 0.6148\n",
      "Epoch 4/5\n",
      "1418/1418 [==============================] - 8s 6ms/step - loss: 0.6081 - val_loss: 0.6121\n",
      "Epoch 5/5\n",
      "1418/1418 [==============================] - 9s 6ms/step - loss: 0.6074 - val_loss: 0.6134\n"
     ]
    }
   ],
   "source": [
    "model1 = RecommenderNet(num_users, num_movies, EMBEDDING_SIZE)\n",
    "model1.compile(\n",
    "    loss=tf.keras.losses.BinaryCrossentropy(), optimizer=keras.optimizers.Adam(lr=0.001)\n",
    ")\n",
    "history1 = model1.fit(\n",
    "    x=x_train,\n",
    "    y=y_noisy_train,\n",
    "    batch_size=64,\n",
    "    epochs=5,\n",
    "    verbose=1,\n",
    "    validation_data=(x_val, y_noisy_val),\n",
    ")\n"
   ]
  },
  {
   "cell_type": "code",
   "execution_count": 10,
   "metadata": {},
   "outputs": [
    {
     "data": {
      "image/png": "[encoded data removed]",
      "text/plain": [
       "<Figure size 432x288 with 1 Axes>"
      ]
     },
     "metadata": {
      "needs_background": "light"
     },
     "output_type": "display_data"
    }
   ],
   "source": [
    "plt.plot(history1.history[\"loss\"])\n",
    "plt.plot(history1.history[\"val_loss\"])\n",
    "plt.title(\"model loss - with noise (scale = 0.5)\")\n",
    "plt.ylabel(\"loss\")\n",
    "plt.xlabel(\"epoch\")\n",
    "plt.legend([\"train\", \"test\"], loc=\"upper left\")\n",
    "plt.show()\n"
   ]
  },
  {
   "cell_type": "markdown",
   "metadata": {
    "id": "B2Fv0qWIcl3j"
   },
   "source": [
    "## Show top 10 movie recommendations to a user\n"
   ]
  },
  {
   "cell_type": "code",
   "execution_count": 11,
   "metadata": {
    "id": "7kpTgZ1Bcl3k",
    "scrolled": false
   },
   "outputs": [
    {
     "name": "stdout",
     "output_type": "stream",
     "text": [
      "Showing recommendations for user: 372\n",
      "====================================\n",
      "Movies with high ratings from user\n",
      "--------------------------------\n",
      "Heat (1995) : Action|Crime|Thriller\n",
      "Fugitive, The (1993) : Thriller\n",
      "Raiders of the Lost Ark (Indiana Jones and the Raiders of the Lost Ark) (1981) : Action|Adventure\n",
      "Star Wars: Episode VI - Return of the Jedi (1983) : Action|Adventure|Sci-Fi\n",
      "Godfather: Part II, The (1974) : Crime|Drama\n",
      "--------------------------------\n",
      "Top 10 movie recommendations\n",
      "--------------------------------\n",
      "Philadelphia Story, The (1940) : Comedy|Drama|Romance\n",
      "North by Northwest (1959) : Action|Adventure|Mystery|Romance|Thriller\n",
      "Some Like It Hot (1959) : Comedy|Crime\n",
      "Casablanca (1942) : Drama|Romance\n",
      "Maltese Falcon, The (1941) : Film-Noir|Mystery\n",
      "Chinatown (1974) : Crime|Film-Noir|Mystery|Thriller\n",
      "Cool Hand Luke (1967) : Drama\n",
      "American History X (1998) : Crime|Drama\n",
      "Fight Club (1999) : Action|Crime|Drama|Thriller\n",
      "Cinderella Man (2005) : Drama|Romance\n"
     ]
    }
   ],
   "source": [
    "movie_df = pd.read_csv(movielens_dir / \"movies.csv\")\n",
    "\n",
    "# Let us get a user and see the top recommendations.\n",
    "user_id = df.userId.sample(1).iloc[0]\n",
    "movies_watched_by_user = df[df.userId == user_id]\n",
    "movies_not_watched = movie_df[\n",
    "    ~movie_df[\"movieId\"].isin(movies_watched_by_user.movieId.values)\n",
    "][\"movieId\"]\n",
    "movies_not_watched = list(\n",
    "    set(movies_not_watched).intersection(set(movie2movie_encoded.keys()))\n",
    ")\n",
    "movies_not_watched = [[movie2movie_encoded.get(x)] for x in movies_not_watched]\n",
    "user_encoder = user2user_encoded.get(user_id)\n",
    "user_movie_array = np.hstack(\n",
    "    ([[user_encoder]] * len(movies_not_watched), movies_not_watched)\n",
    ")\n",
    "ratings = model1.predict(user_movie_array).flatten()\n",
    "top_ratings_indices = ratings.argsort()[-10:][::-1]\n",
    "recommended_movie_ids = [\n",
    "    movie_encoded2movie.get(movies_not_watched[x][0]) for x in top_ratings_indices\n",
    "]\n",
    "\n",
    "print(\"Showing recommendations for user: {}\".format(user_id))\n",
    "print(\"====\" * 9)\n",
    "print(\"Movies with high ratings from user\")\n",
    "print(\"----\" * 8)\n",
    "top_movies_user = (\n",
    "    movies_watched_by_user.sort_values(by=\"rating\", ascending=False)\n",
    "    .head(5)\n",
    "    .movieId.values\n",
    ")\n",
    "movie_df_rows = movie_df[movie_df[\"movieId\"].isin(top_movies_user)]\n",
    "for row in movie_df_rows.itertuples():\n",
    "    print(row.title, \":\", row.genres)\n",
    "\n",
    "print(\"----\" * 8)\n",
    "print(\"Top 10 movie recommendations\")\n",
    "print(\"----\" * 8)\n",
    "recommended_movies = movie_df[movie_df[\"movieId\"].isin(recommended_movie_ids)]\n",
    "for row in recommended_movies.itertuples():\n",
    "    print(row.title, \":\", row.genres)\n"
   ]
  },
  {
   "cell_type": "code",
   "execution_count": 20,
   "metadata": {},
   "outputs": [
    {
     "name": "stdout",
     "output_type": "stream",
     "text": [
      "Epoch 1/5\n",
      "1418/1418 [==============================] - 10s 7ms/step - loss: 0.6627 - val_loss: 0.6309\n",
      "Epoch 2/5\n",
      "1418/1418 [==============================] - 10s 7ms/step - loss: 0.6260 - val_loss: 0.6300\n",
      "Epoch 3/5\n",
      "1418/1418 [==============================] - 8s 6ms/step - loss: 0.6216 - val_loss: 0.6263\n",
      "Epoch 4/5\n",
      "1418/1418 [==============================] - 8s 6ms/step - loss: 0.6208 - val_loss: 0.6247\n",
      "Epoch 5/5\n",
      "1418/1418 [==============================] - 10s 7ms/step - loss: 0.6208 - val_loss: 0.6250\n",
      "Epoch 1/5\n",
      "1418/1418 [==============================] - 10s 7ms/step - loss: 0.6715 - val_loss: 0.6480\n",
      "Epoch 2/5\n",
      "1418/1418 [==============================] - 9s 6ms/step - loss: 0.6452 - val_loss: 0.6496\n",
      "Epoch 3/5\n",
      "1418/1418 [==============================] - 9s 6ms/step - loss: 0.6405 - val_loss: 0.6488\n",
      "Epoch 4/5\n",
      "1418/1418 [==============================] - 9s 6ms/step - loss: 0.6415 - val_loss: 0.6490\n",
      "Epoch 5/5\n",
      "1418/1418 [==============================] - 9s 6ms/step - loss: 0.6409 - val_loss: 0.6454\n",
      "Epoch 1/5\n",
      "1418/1418 [==============================] - 9s 6ms/step - loss: 0.6777 - val_loss: 0.6612\n",
      "Epoch 2/5\n",
      "1418/1418 [==============================] - 8s 6ms/step - loss: 0.6585 - val_loss: 0.6648\n",
      "Epoch 3/5\n",
      "1418/1418 [==============================] - 8s 6ms/step - loss: 0.6566 - val_loss: 0.6636\n",
      "Epoch 4/5\n",
      "1418/1418 [==============================] - 10s 7ms/step - loss: 0.6584 - val_loss: 0.6640\n",
      "Epoch 5/5\n",
      "1418/1418 [==============================] - 8s 6ms/step - loss: 0.6568 - val_loss: 0.6636\n",
      "Epoch 1/5\n",
      "1418/1418 [==============================] - 10s 7ms/step - loss: 0.6832 - val_loss: 0.6759\n",
      "Epoch 2/5\n",
      "1418/1418 [==============================] - 10s 7ms/step - loss: 0.6692 - val_loss: 0.6784\n",
      "Epoch 3/5\n",
      "1418/1418 [==============================] - 9s 6ms/step - loss: 0.6694 - val_loss: 0.6777\n",
      "Epoch 4/5\n",
      "1418/1418 [==============================] - 8s 6ms/step - loss: 0.6688 - val_loss: 0.6789\n",
      "Epoch 5/5\n",
      "1418/1418 [==============================] - 9s 6ms/step - loss: 0.6672 - val_loss: 0.6817\n"
     ]
    }
   ],
   "source": [
    "def trainModels(noise_scales):\n",
    "    model = dict()\n",
    "    history = dict()\n",
    "    for scale in noise_scales:\n",
    "        model[str(scale)] = RecommenderNet(num_users, num_movies, EMBEDDING_SIZE)\n",
    "        model[str(scale)].compile(\n",
    "            loss=tf.keras.losses.BinaryCrossentropy(), optimizer=keras.optimizers.Adam(lr=0.001)\n",
    "        )\n",
    "        history[str(scale)] = model[str(scale)].fit(\n",
    "            x=x_train,\n",
    "            y=y_noisy[\"train_\" + str(scale)],\n",
    "            batch_size=64,\n",
    "            epochs=5,\n",
    "            verbose=1,\n",
    "            validation_data=(x_val, y_noisy[\"val_\" + str(scale)]),\n",
    "        )\n",
    "    return model,history\n",
    "        \n",
    "model,history = trainModels(noise_scales)"
   ]
  },
  {
   "cell_type": "code",
   "execution_count": 53,
   "metadata": {},
   "outputs": [],
   "source": [
    "def getLossPlots(noise_scales,history):\n",
    "    for scale in noise_scales:\n",
    "        plt.plot(history[str(scale)].history[\"loss\"])\n",
    "    plt.legend([str(scale) for scale in noise_scales])\n",
    "    plt.title(\"Model Training losses - with noises\")\n",
    "    plt.ylabel(\"loss\")\n",
    "    plt.xlabel(\"epoch\")"
   ]
  },
  {
   "cell_type": "code",
   "execution_count": 54,
   "metadata": {},
   "outputs": [
    {
     "data": {
      "image/png": "[encoded data removed]",
      "text/plain": [
       "<Figure size 460.8x403.2 with 1 Axes>"
      ]
     },
     "metadata": {},
     "output_type": "display_data"
    }
   ],
   "source": [
    "getLossPlots(noise_scales,history)"
   ]
  },
  {
   "cell_type": "code",
   "execution_count": 55,
   "metadata": {},
   "outputs": [
    {
     "data": {
      "image/png": "[encoded data removed]",
      "text/plain": [
       "<Figure size 460.8x403.2 with 1 Axes>"
      ]
     },
     "metadata": {},
     "output_type": "display_data"
    }
   ],
   "source": [
    "def getValLossPlots(noise_scales,history):\n",
    "    for scale in noise_scales:\n",
    "        plt.plot(history[str(scale)].history[\"val_loss\"],\"--\")\n",
    "    plt.legend([str(scale) for scale in noise_scales])\n",
    "    plt.title(\"Model Validation losses - with noises\")\n",
    "    plt.ylabel(\"loss\")\n",
    "    plt.xlabel(\"epoch\")\n",
    "    plt.show()\n",
    "    \n",
    "getValLossPlots(noise_scales,history)"
   ]
  },
  {
   "cell_type": "code",
   "execution_count": 56,
   "metadata": {},
   "outputs": [
    {
     "data": {
      "image/png": "[encoded data removed]",
      "text/plain": [
       "<Figure size 460.8x403.2 with 1 Axes>"
      ]
     },
     "metadata": {},
     "output_type": "display_data"
    }
   ],
   "source": [
    "for scale in noise_scales:\n",
    "    plt.plot(history[str(scale)].history[\"loss\"])\n",
    "plt.legend([str(scale) for scale in noise_scales])\n",
    "plt.gca().set_prop_cycle(None)\n",
    "for scale in noise_scales:\n",
    "        plt.plot(history[str(scale)].history[\"val_loss\"],\"--\")\n",
    "plt.title(\"Model losses - with noises\")\n",
    "plt.ylabel(\"loss\")\n",
    "plt.xlabel(\"epoch\")\n",
    "plt.show()"
   ]
  },
  {
   "cell_type": "code",
   "execution_count": null,
   "metadata": {},
   "outputs": [],
   "source": []
  }
 ],
 "metadata": {
  "colab": {
   "collapsed_sections": [],
   "name": "collaborative_filtering_movielens",
   "provenance": [],
   "toc_visible": true
  },
  "kernelspec": {
   "display_name": "Python 3",
   "language": "python",
   "name": "python3"
  },
  "language_info": {
   "codemirror_mode": {
    "name": "ipython",
    "version": 3
   },
   "file_extension": ".py",
   "mimetype": "text/x-python",
   "name": "python",
   "nbconvert_exporter": "python",
   "pygments_lexer": "ipython3",
   "version": "3.8.6"
  }
 },
 "nbformat": 4,
 "nbformat_minor": 1
}
