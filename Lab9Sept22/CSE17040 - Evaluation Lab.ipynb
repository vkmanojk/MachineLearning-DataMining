{
 "cells": [
  {
   "cell_type": "markdown",
   "metadata": {},
   "source": [
    "# Lab 9 - Evaluation Lab\n",
    "\n",
    "Manojkumar V K\n",
    "CB.EN.U4CSE17040\n"
   ]
  },
  {
   "cell_type": "markdown",
   "metadata": {},
   "source": [
    "## Exploratory Data Analysis"
   ]
  },
  {
   "cell_type": "code",
   "execution_count": 1,
   "metadata": {},
   "outputs": [],
   "source": [
    "import numpy as np\n",
    "import pandas as pd\n",
    "import matplotlib.pyplot as plt\n",
    "%matplotlib inline\n",
    "\n",
    "from scipy.spatial import distance\n",
    "from sklearn.preprocessing import LabelEncoder\n",
    "from sklearn.cluster import DBSCAN, KMeans\n",
    "from sklearn.decomposition import PCA\n",
    "from sklearn.metrics import homogeneity_score, completeness_score, v_measure_score, adjusted_rand_score\n",
    "from sklearn.metrics import adjusted_mutual_info_score, silhouette_score"
   ]
  },
  {
   "cell_type": "markdown",
   "metadata": {},
   "source": [
    "### Reading and Understanding the Data"
   ]
  },
  {
   "cell_type": "code",
   "execution_count": 2,
   "metadata": {},
   "outputs": [
    {
     "data": {
      "text/html": [
       "<div>\n",
       "<style scoped>\n",
       "    .dataframe tbody tr th:only-of-type {\n",
       "        vertical-align: middle;\n",
       "    }\n",
       "\n",
       "    .dataframe tbody tr th {\n",
       "        vertical-align: top;\n",
       "    }\n",
       "\n",
       "    .dataframe thead th {\n",
       "        text-align: right;\n",
       "    }\n",
       "</style>\n",
       "<table border=\"1\" class=\"dataframe\">\n",
       "  <thead>\n",
       "    <tr style=\"text-align: right;\">\n",
       "      <th></th>\n",
       "      <th>0</th>\n",
       "      <th>1</th>\n",
       "      <th>2</th>\n",
       "      <th>3</th>\n",
       "      <th>4</th>\n",
       "      <th>5</th>\n",
       "      <th>6</th>\n",
       "      <th>7</th>\n",
       "      <th>8</th>\n",
       "    </tr>\n",
       "  </thead>\n",
       "  <tbody>\n",
       "    <tr>\n",
       "      <th>0</th>\n",
       "      <td>6</td>\n",
       "      <td>148</td>\n",
       "      <td>72</td>\n",
       "      <td>35</td>\n",
       "      <td>0</td>\n",
       "      <td>33.6</td>\n",
       "      <td>0.627</td>\n",
       "      <td>50</td>\n",
       "      <td>1</td>\n",
       "    </tr>\n",
       "    <tr>\n",
       "      <th>1</th>\n",
       "      <td>1</td>\n",
       "      <td>85</td>\n",
       "      <td>66</td>\n",
       "      <td>29</td>\n",
       "      <td>0</td>\n",
       "      <td>26.6</td>\n",
       "      <td>0.351</td>\n",
       "      <td>31</td>\n",
       "      <td>0</td>\n",
       "    </tr>\n",
       "    <tr>\n",
       "      <th>2</th>\n",
       "      <td>8</td>\n",
       "      <td>183</td>\n",
       "      <td>64</td>\n",
       "      <td>0</td>\n",
       "      <td>0</td>\n",
       "      <td>23.3</td>\n",
       "      <td>0.672</td>\n",
       "      <td>32</td>\n",
       "      <td>1</td>\n",
       "    </tr>\n",
       "    <tr>\n",
       "      <th>3</th>\n",
       "      <td>1</td>\n",
       "      <td>89</td>\n",
       "      <td>66</td>\n",
       "      <td>23</td>\n",
       "      <td>94</td>\n",
       "      <td>28.1</td>\n",
       "      <td>0.167</td>\n",
       "      <td>21</td>\n",
       "      <td>0</td>\n",
       "    </tr>\n",
       "    <tr>\n",
       "      <th>4</th>\n",
       "      <td>0</td>\n",
       "      <td>137</td>\n",
       "      <td>40</td>\n",
       "      <td>35</td>\n",
       "      <td>168</td>\n",
       "      <td>43.1</td>\n",
       "      <td>2.288</td>\n",
       "      <td>33</td>\n",
       "      <td>1</td>\n",
       "    </tr>\n",
       "  </tbody>\n",
       "</table>\n",
       "</div>"
      ],
      "text/plain": [
       "   0    1   2   3    4     5      6   7  8\n",
       "0  6  148  72  35    0  33.6  0.627  50  1\n",
       "1  1   85  66  29    0  26.6  0.351  31  0\n",
       "2  8  183  64   0    0  23.3  0.672  32  1\n",
       "3  1   89  66  23   94  28.1  0.167  21  0\n",
       "4  0  137  40  35  168  43.1  2.288  33  1"
      ]
     },
     "execution_count": 2,
     "metadata": {},
     "output_type": "execute_result"
    }
   ],
   "source": [
    "df = pd.read_csv('pima-indians-diabetes.csv', skiprows=9, header=None)\n",
    "df.head()"
   ]
  },
  {
   "cell_type": "code",
   "execution_count": 3,
   "metadata": {},
   "outputs": [
    {
     "data": {
      "text/html": [
       "<div>\n",
       "<style scoped>\n",
       "    .dataframe tbody tr th:only-of-type {\n",
       "        vertical-align: middle;\n",
       "    }\n",
       "\n",
       "    .dataframe tbody tr th {\n",
       "        vertical-align: top;\n",
       "    }\n",
       "\n",
       "    .dataframe thead th {\n",
       "        text-align: right;\n",
       "    }\n",
       "</style>\n",
       "<table border=\"1\" class=\"dataframe\">\n",
       "  <thead>\n",
       "    <tr style=\"text-align: right;\">\n",
       "      <th></th>\n",
       "      <th>Pregnancies</th>\n",
       "      <th>Glucose</th>\n",
       "      <th>BloodPressure</th>\n",
       "      <th>SkinThickness</th>\n",
       "      <th>Insulin</th>\n",
       "      <th>BMI</th>\n",
       "      <th>DiabetesPedigreeFunction</th>\n",
       "      <th>Age</th>\n",
       "      <th>Outcome</th>\n",
       "    </tr>\n",
       "  </thead>\n",
       "  <tbody>\n",
       "    <tr>\n",
       "      <th>0</th>\n",
       "      <td>6</td>\n",
       "      <td>148</td>\n",
       "      <td>72</td>\n",
       "      <td>35</td>\n",
       "      <td>0</td>\n",
       "      <td>33.6</td>\n",
       "      <td>0.627</td>\n",
       "      <td>50</td>\n",
       "      <td>1</td>\n",
       "    </tr>\n",
       "    <tr>\n",
       "      <th>1</th>\n",
       "      <td>1</td>\n",
       "      <td>85</td>\n",
       "      <td>66</td>\n",
       "      <td>29</td>\n",
       "      <td>0</td>\n",
       "      <td>26.6</td>\n",
       "      <td>0.351</td>\n",
       "      <td>31</td>\n",
       "      <td>0</td>\n",
       "    </tr>\n",
       "    <tr>\n",
       "      <th>2</th>\n",
       "      <td>8</td>\n",
       "      <td>183</td>\n",
       "      <td>64</td>\n",
       "      <td>0</td>\n",
       "      <td>0</td>\n",
       "      <td>23.3</td>\n",
       "      <td>0.672</td>\n",
       "      <td>32</td>\n",
       "      <td>1</td>\n",
       "    </tr>\n",
       "    <tr>\n",
       "      <th>3</th>\n",
       "      <td>1</td>\n",
       "      <td>89</td>\n",
       "      <td>66</td>\n",
       "      <td>23</td>\n",
       "      <td>94</td>\n",
       "      <td>28.1</td>\n",
       "      <td>0.167</td>\n",
       "      <td>21</td>\n",
       "      <td>0</td>\n",
       "    </tr>\n",
       "    <tr>\n",
       "      <th>4</th>\n",
       "      <td>0</td>\n",
       "      <td>137</td>\n",
       "      <td>40</td>\n",
       "      <td>35</td>\n",
       "      <td>168</td>\n",
       "      <td>43.1</td>\n",
       "      <td>2.288</td>\n",
       "      <td>33</td>\n",
       "      <td>1</td>\n",
       "    </tr>\n",
       "  </tbody>\n",
       "</table>\n",
       "</div>"
      ],
      "text/plain": [
       "   Pregnancies  Glucose  BloodPressure  SkinThickness  Insulin   BMI  \\\n",
       "0            6      148             72             35        0  33.6   \n",
       "1            1       85             66             29        0  26.6   \n",
       "2            8      183             64              0        0  23.3   \n",
       "3            1       89             66             23       94  28.1   \n",
       "4            0      137             40             35      168  43.1   \n",
       "\n",
       "   DiabetesPedigreeFunction  Age  Outcome  \n",
       "0                     0.627   50        1  \n",
       "1                     0.351   31        0  \n",
       "2                     0.672   32        1  \n",
       "3                     0.167   21        0  \n",
       "4                     2.288   33        1  "
      ]
     },
     "execution_count": 3,
     "metadata": {},
     "output_type": "execute_result"
    }
   ],
   "source": [
    "df.columns = ['Pregnancies', 'Glucose', 'BloodPressure', 'SkinThickness', 'Insulin','BMI', 'DiabetesPedigreeFunction', 'Age', 'Outcome']\n",
    "df.head()"
   ]
  },
  {
   "cell_type": "markdown",
   "metadata": {},
   "source": [
    "### Data cleaning"
   ]
  },
  {
   "cell_type": "code",
   "execution_count": 4,
   "metadata": {},
   "outputs": [
    {
     "data": {
      "text/plain": [
       "Pregnancies                 0\n",
       "Glucose                     0\n",
       "BloodPressure               0\n",
       "SkinThickness               0\n",
       "Insulin                     0\n",
       "BMI                         0\n",
       "DiabetesPedigreeFunction    0\n",
       "Age                         0\n",
       "Outcome                     0\n",
       "dtype: int64"
      ]
     },
     "execution_count": 4,
     "metadata": {},
     "output_type": "execute_result"
    }
   ],
   "source": [
    "df.isnull().sum()"
   ]
  },
  {
   "cell_type": "markdown",
   "metadata": {},
   "source": [
    "### Data Preparation"
   ]
  },
  {
   "cell_type": "code",
   "execution_count": 5,
   "metadata": {},
   "outputs": [],
   "source": [
    "X=PCA(n_components=2).fit(df.drop(columns=['Outcome']))\n",
    "X=X.transform(df.drop(columns=['Outcome']))\n",
    "y = df['Outcome'].values"
   ]
  },
  {
   "cell_type": "code",
   "execution_count": 6,
   "metadata": {},
   "outputs": [
    {
     "data": {
      "image/png": "[encoded data removed]",
      "text/plain": [
       "<Figure size 432x288 with 1 Axes>"
      ]
     },
     "metadata": {
      "needs_background": "light"
     },
     "output_type": "display_data"
    }
   ],
   "source": [
    "for i in range(0, X.shape[0]):\n",
    "    if y[i] == 0:\n",
    "        p1 = plt.scatter(X[i, 0], X[i, 1], s = 80, c = 'red')\n",
    "    elif y[i] == 1:\n",
    "        p2 = plt.scatter(X[i, 0], X[i, 1], s = 80, c = 'green')\n",
    "plt.legend([p1,p2],['Outcome 0', 'Outcome 1'])\n",
    "plt.show()"
   ]
  },
  {
   "cell_type": "markdown",
   "metadata": {},
   "source": [
    "## Analyze the Clusters in data using DBSCAN"
   ]
  },
  {
   "cell_type": "code",
   "execution_count": 7,
   "metadata": {},
   "outputs": [],
   "source": [
    "db = DBSCAN(eps=0.8, min_samples=19)\n",
    "model = db.fit(X)\n",
    "pred = model.labels_"
   ]
  },
  {
   "cell_type": "code",
   "execution_count": 8,
   "metadata": {},
   "outputs": [
    {
     "data": {
      "image/png": "[encoded data removed]",
      "text/plain": [
       "<Figure size 432x288 with 1 Axes>"
      ]
     },
     "metadata": {
      "needs_background": "light"
     },
     "output_type": "display_data"
    }
   ],
   "source": [
    "for i in range(0, X.shape[0]):\n",
    "    if pred[i] == 0:\n",
    "        p1 = plt.scatter(X[i, 0], X[i, 1], s = 80, c = 'red')\n",
    "    elif pred[i] == 1:\n",
    "        p2 = plt.scatter(X[i, 0], X[i, 1], s = 80, c = 'green')\n",
    "    else:\n",
    "        p3 = plt.scatter(X[i, 0], X[i, 1], s = 80, c = 'black')\n",
    "plt.legend([p1,p2,p3],['Cluster 1', 'Cluster 2', 'Outliers'])\n",
    "plt.show()"
   ]
  },
  {
   "cell_type": "markdown",
   "metadata": {},
   "source": [
    "### How successful has the clustering been in this regard?\n",
    "With the give parameters (Eps=0.8, minPts=19), DBSCAN fails to capture any similarities in order to form a cluster. This is because there is no point in the dataset such that the distance between the point and its neighboring 19 points are less than 0.8\n",
    "\n",
    "### Looking at each class individually, can you spot the particular class that is well identified by the clustering? Classes that are poorly identified?\n",
    "No, since every point in the dataset is considered as a noise, no distinct clusters can be seen\n",
    "\n",
    "### Which classes are mostly confused with each other?\n",
    "All the classes were confused because of choosing wrong hyperparameters"
   ]
  },
  {
   "cell_type": "code",
   "execution_count": 9,
   "metadata": {},
   "outputs": [
    {
     "name": "stdout",
     "output_type": "stream",
     "text": [
      "Euclidean distance:  65.19836603412135\n"
     ]
    }
   ],
   "source": [
    "p1 = X[0]\n",
    "p2 = X[1]\n",
    "d = distance.euclidean(p1, p2)\n",
    "print(\"Euclidean distance: \",d)"
   ]
  },
  {
   "cell_type": "markdown",
   "metadata": {},
   "source": [
    "The distance between two points in the dataset is very much greater than 0.18. There does not exist 19 points which are closer than 0.18. This is the reason why DBSCAN considers every point as noise and thereby fails in clustering"
   ]
  },
  {
   "cell_type": "markdown",
   "metadata": {},
   "source": [
    "### Find the clustering parameters"
   ]
  },
  {
   "cell_type": "code",
   "execution_count": 10,
   "metadata": {},
   "outputs": [],
   "source": [
    "n_clusters_ = len(set(pred)) - (1 if -1 in pred else 0)\n",
    "n_noise_ = list(pred).count(-1)"
   ]
  },
  {
   "cell_type": "code",
   "execution_count": 11,
   "metadata": {},
   "outputs": [
    {
     "name": "stdout",
     "output_type": "stream",
     "text": [
      "Estimated number of clusters     : 0\n",
      "Estimated number of noise points : 768\n",
      "Homogeneity                      : 0.000\n",
      "Completeness                     : 1.000\n",
      "V-measure                        : 0.000\n",
      "Adjusted Rand Index              : 0.000\n",
      "Adjusted Mutual Information      : 0.000\n"
     ]
    }
   ],
   "source": [
    "print('Estimated number of clusters     : %d' % n_clusters_)\n",
    "print('Estimated number of noise points : %d' % n_noise_)\n",
    "print(\"Homogeneity                      : %0.3f\" %  homogeneity_score(y, pred))\n",
    "print(\"Completeness                     : %0.3f\" %  completeness_score(y, pred))\n",
    "print(\"V-measure                        : %0.3f\" %  v_measure_score(y, pred))\n",
    "print(\"Adjusted Rand Index              : %0.3f\" %  adjusted_rand_score(y, pred))\n",
    "print(\"Adjusted Mutual Information      : %0.3f\" %  adjusted_mutual_info_score(y, pred))\n",
    "# print(\"Silhouette Coefficient           : %0.3f\" %  silhouette_score(X, pred))"
   ]
  },
  {
   "cell_type": "markdown",
   "metadata": {},
   "source": [
    "## Compare the results with K-means"
   ]
  },
  {
   "cell_type": "code",
   "execution_count": 12,
   "metadata": {},
   "outputs": [],
   "source": [
    "kmeans = KMeans(n_clusters=2)\n",
    "kmeans.fit(X)\n",
    "pred = kmeans.predict(X)"
   ]
  },
  {
   "cell_type": "code",
   "execution_count": 13,
   "metadata": {},
   "outputs": [
    {
     "data": {
      "text/plain": [
       "<matplotlib.collections.PathCollection at 0x7fde60ec1950>"
      ]
     },
     "execution_count": 13,
     "metadata": {},
     "output_type": "execute_result"
    },
    {
     "data": {
      "image/png": "[encoded data removed]",
      "text/plain": [
       "<Figure size 432x288 with 1 Axes>"
      ]
     },
     "metadata": {
      "needs_background": "light"
     },
     "output_type": "display_data"
    }
   ],
   "source": [
    "plt.scatter(X[:, 0], X[:, 1], c=pred, s=50, cmap='viridis')\n",
    "centers = kmeans.cluster_centers_\n",
    "plt.scatter(centers[:, 0], centers[:, 1], c='black', s=200, alpha=0.5)"
   ]
  },
  {
   "cell_type": "code",
   "execution_count": 14,
   "metadata": {},
   "outputs": [],
   "source": [
    "n_clusters_ = len(set(pred)) - (1 if -1 in pred else 0)\n",
    "n_noise_ = list(pred).count(-1)"
   ]
  },
  {
   "cell_type": "code",
   "execution_count": 15,
   "metadata": {},
   "outputs": [
    {
     "name": "stdout",
     "output_type": "stream",
     "text": [
      "Estimated number of clusters     : 2\n",
      "Estimated number of noise points : 0\n",
      "Homogeneity                      : 0.026\n",
      "Completeness                     : 0.033\n",
      "V-measure                        : 0.029\n",
      "Adjusted Rand Index              : 0.074\n",
      "Adjusted Mutual Information      : 0.028\n",
      "Silhouette Coefficient           : 0.614\n"
     ]
    }
   ],
   "source": [
    "print('Estimated number of clusters     : %d' % n_clusters_)\n",
    "print('Estimated number of noise points : %d' % n_noise_)\n",
    "print(\"Homogeneity                      : %0.3f\" %  homogeneity_score(y, pred))\n",
    "print(\"Completeness                     : %0.3f\" %  completeness_score(y, pred))\n",
    "print(\"V-measure                        : %0.3f\" %  v_measure_score(y, pred))\n",
    "print(\"Adjusted Rand Index              : %0.3f\" %  adjusted_rand_score(y, pred))\n",
    "print(\"Adjusted Mutual Information      : %0.3f\" %  adjusted_mutual_info_score(y, pred))\n",
    "print(\"Silhouette Coefficient           : %0.3f\" %  silhouette_score(X, pred))"
   ]
  },
  {
   "cell_type": "markdown",
   "metadata": {},
   "source": [
    "**Difference** Even if there exists an outlier, KMeans clustering is affected.So none of the points are considered as noise and therefore, in the given scenario, with the given hyperparameters, KMeans actually performs better than DBSCAN."
   ]
  },
  {
   "cell_type": "code",
   "execution_count": 16,
   "metadata": {},
   "outputs": [],
   "source": [
    "db = DBSCAN(eps=40, min_samples=6)\n",
    "model = db.fit(X)\n",
    "pred = model.labels_"
   ]
  },
  {
   "cell_type": "code",
   "execution_count": 17,
   "metadata": {},
   "outputs": [
    {
     "data": {
      "image/png": "[encoded data removed]",
      "text/plain": [
       "<Figure size 432x288 with 1 Axes>"
      ]
     },
     "metadata": {
      "needs_background": "light"
     },
     "output_type": "display_data"
    }
   ],
   "source": [
    "for i in range(0, X.shape[0]):\n",
    "    if pred[i] == 0:\n",
    "        p1 = plt.scatter(X[i, 0], X[i, 1], s = 80, c = 'red')\n",
    "    elif pred[i] == 1:\n",
    "        p2 = plt.scatter(X[i, 0], X[i, 1], s = 80, c = 'green')\n",
    "    else:\n",
    "        p3 = plt.scatter(X[i, 0], X[i, 1], s = 80, c = 'black')\n",
    "plt.legend([p1,p2,p3],['Cluster 1', 'Cluster 2', 'Outliers'])\n",
    "plt.show()"
   ]
  },
  {
   "cell_type": "code",
   "execution_count": 18,
   "metadata": {},
   "outputs": [
    {
     "data": {
      "text/plain": [
       "Counter({1: 268, 0: 500})"
      ]
     },
     "execution_count": 18,
     "metadata": {},
     "output_type": "execute_result"
    }
   ],
   "source": [
    "from collections import Counter \n",
    "Counter(df['Outcome'].values)"
   ]
  },
  {
   "cell_type": "code",
   "execution_count": 19,
   "metadata": {},
   "outputs": [
    {
     "name": "stdout",
     "output_type": "stream",
     "text": [
      "Estimated number of clusters     : 2\n",
      "Estimated number of noise points : 12\n",
      "Homogeneity                      : 0.008\n",
      "Completeness                     : 0.033\n",
      "V-measure                        : 0.013\n",
      "Adjusted Rand Index              : 0.020\n",
      "Adjusted Mutual Information      : 0.009\n",
      "Silhouette Coefficient           : 0.670\n"
     ]
    }
   ],
   "source": [
    "n_clusters_ = len(set(pred)) - (1 if -1 in pred else 0)\n",
    "n_noise_ = list(pred).count(-1)\n",
    "print('Estimated number of clusters     : %d' % n_clusters_)\n",
    "print('Estimated number of noise points : %d' % n_noise_)\n",
    "print(\"Homogeneity                      : %0.3f\" %  homogeneity_score(y, pred))\n",
    "print(\"Completeness                     : %0.3f\" %  completeness_score(y, pred))\n",
    "print(\"V-measure                        : %0.3f\" %  v_measure_score(y, pred))\n",
    "print(\"Adjusted Rand Index              : %0.3f\" %  adjusted_rand_score(y, pred))\n",
    "print(\"Adjusted Mutual Information      : %0.3f\" %  adjusted_mutual_info_score(y, pred))\n",
    "print(\"Silhouette Coefficient           : %0.3f\" %  silhouette_score(X, pred))"
   ]
  },
  {
   "cell_type": "markdown",
   "metadata": {},
   "source": [
    "After changing the hyperparameters, the DBSCAN algorithm seems to be working better than the KMeans itself. This exercise shows how important choosing the correct value of hyperparameters are."
   ]
  }
 ],
 "metadata": {
  "kernelspec": {
   "display_name": "Python 3",
   "language": "python",
   "name": "python3"
  },
  "language_info": {
   "codemirror_mode": {
    "name": "ipython",
    "version": 3
   },
   "file_extension": ".py",
   "mimetype": "text/x-python",
   "name": "python",
   "nbconvert_exporter": "python",
   "pygments_lexer": "ipython3",
   "version": "3.7.6"
  }
 },
 "nbformat": 4,
 "nbformat_minor": 4
}
